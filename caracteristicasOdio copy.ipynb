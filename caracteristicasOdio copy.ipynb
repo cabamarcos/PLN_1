{
 "cells": [
  {
   "cell_type": "markdown",
   "metadata": {},
   "source": [
    "**Universidad Internacional de La Rioja (UNIR) - Máster Universitario en Inteligencia Artificial - Procesamiento del Lenguaje Natural** "
   ]
  },
  {
   "cell_type": "markdown",
   "metadata": {},
   "source": [
    "***\n",
    "Datos del alumno (Nombre y Apellidos):\n",
    "\n",
    "Fecha:\n",
    "***"
   ]
  },
  {
   "cell_type": "markdown",
   "metadata": {},
   "source": [
    "<span style=\"font-size: 20pt; font-weight: bold; color: #0098cd;\">Trabajo: Named-Entity Recognition</span>\n",
    "\n",
    "**Objetivos** \n",
    "\n",
    "Con esta actividad se tratará de que el alumno se familiarice con el manejo de la librería spacy, así como con los conceptos básicos de manejo de las técnicas NER\n",
    "\n",
    "**Descripción**\n",
    "\n",
    "En esta actividad debes procesar de forma automática un texto en lenguaje natural para detectar características básicas en el mismo, y para identificar y etiquetar las ocurrencias de conceptos como localización, moneda, empresas, etc.\n",
    "\n",
    "En la primera parte del ejercicio se proporciona un código fuente a través del cual se lee un archivo de texto y se realiza un preprocesado del mismo. En esta parte el alumno tan sólo debe ejecutar y entender el código proporcionado.\n",
    "\n",
    "En la segunda parte del ejercicio se plantean una serie de preguntas que deben ser respondidas por el alumno. Cada pregunta deberá responderse con un fragmento de código fuente que esté acompañado de la explicación correspondiente. Para elaborar el código solicitado, el alumno deberá visitar la documentación de la librería spacy, cuyos enlaces se proporcionarán donde corresponda."
   ]
  },
  {
   "cell_type": "markdown",
   "metadata": {},
   "source": [
    "# Parte 1: carga y preprocesamiento del texto a analizar"
   ]
  },
  {
   "cell_type": "markdown",
   "metadata": {},
   "source": [
    "Observa las diferentes librerías que se están importando."
   ]
  },
  {
   "cell_type": "code",
   "execution_count": 1,
   "metadata": {},
   "outputs": [],
   "source": [
    "import pathlib\n",
    "import spacy\n",
    "import pandas as pd\n",
    "from spacy import displacy\n",
    "import csv\n",
    "import es_core_news_md"
   ]
  },
  {
   "cell_type": "markdown",
   "metadata": {},
   "source": [
    "El siguiente código simplemente carga y preprocesa el texto. Para ello, lo primero que hace es cargar un modelo de lenguaje previamente entrenado. En este caso, se utiliza <i>es_core_news_md</i>: \n",
    "\n",
    "https://spacy.io/models/es#es_core_news_md\n"
   ]
  },
  {
   "cell_type": "code",
   "execution_count": 2,
   "metadata": {},
   "outputs": [],
   "source": [
    "nlp = es_core_news_md.load()"
   ]
  },
  {
   "cell_type": "markdown",
   "metadata": {},
   "source": [
    "El objeto <i>nlp</i> permite utilizar el modelo de lenguaje cargado, de forma que se puede procesar un texto y obtenerlo en su versión preprocesada. Así, nos permite realizar las diferentes tareas. En este caso, vamos a utilizar el pipeline para hacer un preprocesamiento básico, que consiste en tokenizar el texto."
   ]
  },
  {
   "cell_type": "code",
   "execution_count": 3,
   "metadata": {},
   "outputs": [],
   "source": [
    "filename = \"./comentariosOdio.csv\""
   ]
  },
  {
   "cell_type": "code",
   "execution_count": 4,
   "metadata": {},
   "outputs": [
    {
     "name": "stderr",
     "output_type": "stream",
     "text": [
      "C:\\Users\\Usuario\\AppData\\Local\\Temp\\ipykernel_11388\\916618882.py:2: DtypeWarning: Columns (5,6,7,8,9,10,11,12,13,14) have mixed types. Specify dtype option on import or set low_memory=False.\n",
      "  data = pd.read_csv(filename, delimiter=';', encoding='latin1')\n"
     ]
    }
   ],
   "source": [
    "\n",
    "lines_number = 20\n",
    "data = pd.read_csv(filename, delimiter=';', encoding='latin1')  \n",
    "#data = pd.read_csv(filename, delimiter=';',nrows=lines_number)  "
   ]
  },
  {
   "cell_type": "markdown",
   "metadata": {},
   "source": [
    "El código anterior carga el archivo CSV (opcionalmente con un límite de líneas a leer) y genera la variable <i>data</i>, que contiene un Dataframe (https://pandas.pydata.org/docs/reference/api/pandas.DataFrame.html) con los datos leídos del CSV."
   ]
  },
  {
   "cell_type": "markdown",
   "metadata": {},
   "source": [
    "Te vendrá bien conocer la siguiente documentación:\n",
    "<ul>\n",
    "    <li>https://spacy.io/api/doc</li>\n",
    "    <li>https://spacy.io/api/token</li>\n",
    "    <li>https://spacy.io/api/morphology#morphanalysis</li>\n",
    "</ul>"
   ]
  },
  {
   "cell_type": "markdown",
   "metadata": {},
   "source": [
    "### Playground\n",
    "\n",
    "Utiliza este espacio para hacer pruebas y ensayos con las variables generadas con el código previo. A modo de ejemplo, se ofrece código que realiza las siguientes tareas: \n",
    "\n",
    "\n",
    "- leer un número dado de líneas del Dataframe y generar dos listas con los valores (se pueden leer directamente del DataFrame, se muestra el ejemplo como una opción más)\n",
    "- procesar el texto de cada comentario\n",
    "\n",
    "\n",
    "Para procesarlo, hay utilizar el objeto <i>nlp</i> y así obtener objetos de la clase <i>Doc</i> (https://spacy.io/api/doc)\n",
    "\n",
    "Visita la documentación de dicha clase y experimenta probando las diferentes funciones y atributos "
   ]
  },
  {
   "cell_type": "code",
   "execution_count": 5,
   "metadata": {},
   "outputs": [],
   "source": [
    "# Puedes insertar aquí código de pruebas para experimentar con las diferentes funciones y atributos de 'doc'.\n",
    "#print(data[\"CONTENIDO A ANALIZAR\"][1])\n",
    "#print(data[\"INTENSIDAD\"][1])\n",
    "doc = []\n",
    "value = []\n",
    "\n",
    "#con el bucle, generamos sendas listas con los comentarios ya parseados y con el valor de intensidad\n",
    "for i in range(0, lines_number):#'''len(data[\"CONTENIDO A ANALIZAR\"])'''\n",
    "    \n",
    "    #en un primer paso se parsea el comentario. En el segundo paso se añade el objeto a la lista\n",
    "    tmp_doc = nlp(data[\"CONTENIDO A ANALIZAR\"][i])\n",
    "    doc.append(tmp_doc)\n",
    "    \n",
    "    #en un primer paso extrae el valor. En el segundo paso se añade el valor a la lista\n",
    "    tmp_value = data[\"INTENSIDAD\"][i]\n",
    "    value.append(tmp_value)\n",
    "\n",
    "\n",
    "# #ejemplo de cómo recorrer un comentario palabra por palabra    \n",
    "# for token in doc[1]:\n",
    "#     print(token)"
   ]
  },
  {
   "cell_type": "markdown",
   "metadata": {},
   "source": [
    "<span style=\"font-size: 14pt; font-weight: bold; color: #0098cd;\">Pregunta 1.</span>\n",
    "<span style=\"font-size: 14pt; font-weight: bold; color: #0098cd;\">¿Cuántos registros contiene el corpus?</span>"
   ]
  },
  {
   "cell_type": "markdown",
   "metadata": {},
   "source": [
    "He visto que hay varios problemas en el dataset:\n",
    "- Muchas filas en las que todos los valores son nulos menos 1, que es la continuación del contenido de la fila anterior. Para arreglar esto borraré las filas que solo contengan ese valor.\n",
    "- Hay varias columnas más de las que son en verdad. Esto se debe a que hay direcciones, nombres y demás mal tabulados. Borraré todas las columnas que no tengan un nombre definido, ya que estas columnas en realidad no tienen nombre."
   ]
  },
  {
   "cell_type": "code",
   "execution_count": 6,
   "metadata": {},
   "outputs": [
    {
     "name": "stdout",
     "output_type": "stream",
     "text": [
      "Fila con datos en columna excedente (Unnamed: 9):\n",
      "MEDIO                                                           alcoi, 66\n",
      "SOPORTE                                                    en mislata, 62\n",
      "URL                                                           en elda, 61\n",
      "TIPO DE MENSAJE                                              en xàbia, 59\n",
      "CONTENIDO A ANALIZAR                                      el campello, 53\n",
      "INTENSIDAD                                             la vila joiosa, 52\n",
      "TIPO DE ODIO                                     burjassot y l'eliana, 51\n",
      "TONO HUMORISTICO                                              godella, 49\n",
      "MODIFICADOR                                                   manises, 48\n",
      "Unnamed: 9                                                    alfafar, 47\n",
      "Unnamed: 10                                                     puçol, 46\n",
      "Unnamed: 11                                                benicàssim, 45\n",
      "Unnamed: 12                               benicarló, petrer y vinaròs, 44\n",
      "Unnamed: 13                                           algemesí y calp, 43\n",
      "Unnamed: 14              aldaia, la pobla de vallbona, 42 y borriana y...\n",
      "Unnamed: 15                                                           0.0\n",
      "Name: 122844, dtype: object\n",
      "----------------------------------------\n",
      "Fila con datos en columna excedente (Unnamed: 9):\n",
      "MEDIO                                                           alcoi, 66\n",
      "SOPORTE                                                    en mislata, 62\n",
      "URL                                                           en elda, 61\n",
      "TIPO DE MENSAJE                                              en xàbia, 59\n",
      "CONTENIDO A ANALIZAR                                      el campello, 53\n",
      "INTENSIDAD                                             la vila joiosa, 52\n",
      "TIPO DE ODIO                                     burjassot y l'eliana, 51\n",
      "TONO HUMORISTICO                                              godella, 49\n",
      "MODIFICADOR                                                   manises, 48\n",
      "Unnamed: 9                                                    alfafar, 47\n",
      "Unnamed: 10                                                     puçol, 46\n",
      "Unnamed: 11                                                benicàssim, 45\n",
      "Unnamed: 12                               benicarló, petrer y vinaròs, 44\n",
      "Unnamed: 13                                           algemesí y calp, 43\n",
      "Unnamed: 14              aldaia, la pobla de vallbona, 42 y borriana y...\n",
      "Unnamed: 15                                                           0.0\n",
      "Name: 122880, dtype: object\n",
      "----------------------------------------\n",
      "Fila con datos en columna excedente (Unnamed: 9):\n",
      "MEDIO                   ad del cliente, se negó a responder preguntas ...\n",
      "SOPORTE                                               le monde de francia\n",
      "URL                                               malaysiakjni de malasia\n",
      "TIPO DE MENSAJE                                   stand news de hong kong\n",
      "CONTENIDO A ANALIZAR                            occrp e istories en rusia\n",
      "INTENSIDAD                                      tanya kozyreva en ucrania\n",
      "TIPO DE ODIO             australian broadcasting corp. y australian fi...\n",
      "TONO HUMORISTICO                              karlijn kuijpers en holanda\n",
      "MODIFICADOR                          the guardian y la bbc en reino unido\n",
      "Unnamed: 9               the washington post, the miami herald y the w...\n",
      "Unnamed: 10                                                           0.0\n",
      "Unnamed: 11                                                           NaN\n",
      "Unnamed: 12                                                           NaN\n",
      "Unnamed: 13                                                           NaN\n",
      "Unnamed: 14                                                           NaN\n",
      "Unnamed: 15                                                           NaN\n",
      "Name: 504362, dtype: object\n",
      "----------------------------------------\n",
      "Fila con datos en columna excedente (Unnamed: 10):\n",
      "MEDIO                                                           alcoi, 66\n",
      "SOPORTE                                                    en mislata, 62\n",
      "URL                                                           en elda, 61\n",
      "TIPO DE MENSAJE                                              en xàbia, 59\n",
      "CONTENIDO A ANALIZAR                                      el campello, 53\n",
      "INTENSIDAD                                             la vila joiosa, 52\n",
      "TIPO DE ODIO                                     burjassot y l'eliana, 51\n",
      "TONO HUMORISTICO                                              godella, 49\n",
      "MODIFICADOR                                                   manises, 48\n",
      "Unnamed: 9                                                    alfafar, 47\n",
      "Unnamed: 10                                                     puçol, 46\n",
      "Unnamed: 11                                                benicàssim, 45\n",
      "Unnamed: 12                               benicarló, petrer y vinaròs, 44\n",
      "Unnamed: 13                                           algemesí y calp, 43\n",
      "Unnamed: 14              aldaia, la pobla de vallbona, 42 y borriana y...\n",
      "Unnamed: 15                                                           0.0\n",
      "Name: 122844, dtype: object\n",
      "----------------------------------------\n",
      "Fila con datos en columna excedente (Unnamed: 10):\n",
      "MEDIO                                                           alcoi, 66\n",
      "SOPORTE                                                    en mislata, 62\n",
      "URL                                                           en elda, 61\n",
      "TIPO DE MENSAJE                                              en xàbia, 59\n",
      "CONTENIDO A ANALIZAR                                      el campello, 53\n",
      "INTENSIDAD                                             la vila joiosa, 52\n",
      "TIPO DE ODIO                                     burjassot y l'eliana, 51\n",
      "TONO HUMORISTICO                                              godella, 49\n",
      "MODIFICADOR                                                   manises, 48\n",
      "Unnamed: 9                                                    alfafar, 47\n",
      "Unnamed: 10                                                     puçol, 46\n",
      "Unnamed: 11                                                benicàssim, 45\n",
      "Unnamed: 12                               benicarló, petrer y vinaròs, 44\n",
      "Unnamed: 13                                           algemesí y calp, 43\n",
      "Unnamed: 14              aldaia, la pobla de vallbona, 42 y borriana y...\n",
      "Unnamed: 15                                                           0.0\n",
      "Name: 122880, dtype: object\n",
      "----------------------------------------\n",
      "Fila con datos en columna excedente (Unnamed: 10):\n",
      "MEDIO                   ad del cliente, se negó a responder preguntas ...\n",
      "SOPORTE                                               le monde de francia\n",
      "URL                                               malaysiakjni de malasia\n",
      "TIPO DE MENSAJE                                   stand news de hong kong\n",
      "CONTENIDO A ANALIZAR                            occrp e istories en rusia\n",
      "INTENSIDAD                                      tanya kozyreva en ucrania\n",
      "TIPO DE ODIO             australian broadcasting corp. y australian fi...\n",
      "TONO HUMORISTICO                              karlijn kuijpers en holanda\n",
      "MODIFICADOR                          the guardian y la bbc en reino unido\n",
      "Unnamed: 9               the washington post, the miami herald y the w...\n",
      "Unnamed: 10                                                           0.0\n",
      "Unnamed: 11                                                           NaN\n",
      "Unnamed: 12                                                           NaN\n",
      "Unnamed: 13                                                           NaN\n",
      "Unnamed: 14                                                           NaN\n",
      "Unnamed: 15                                                           NaN\n",
      "Name: 504362, dtype: object\n",
      "----------------------------------------\n",
      "Fila con datos en columna excedente (Unnamed: 11):\n",
      "MEDIO                                                           alcoi, 66\n",
      "SOPORTE                                                    en mislata, 62\n",
      "URL                                                           en elda, 61\n",
      "TIPO DE MENSAJE                                              en xàbia, 59\n",
      "CONTENIDO A ANALIZAR                                      el campello, 53\n",
      "INTENSIDAD                                             la vila joiosa, 52\n",
      "TIPO DE ODIO                                     burjassot y l'eliana, 51\n",
      "TONO HUMORISTICO                                              godella, 49\n",
      "MODIFICADOR                                                   manises, 48\n",
      "Unnamed: 9                                                    alfafar, 47\n",
      "Unnamed: 10                                                     puçol, 46\n",
      "Unnamed: 11                                                benicàssim, 45\n",
      "Unnamed: 12                               benicarló, petrer y vinaròs, 44\n",
      "Unnamed: 13                                           algemesí y calp, 43\n",
      "Unnamed: 14              aldaia, la pobla de vallbona, 42 y borriana y...\n",
      "Unnamed: 15                                                           0.0\n",
      "Name: 122844, dtype: object\n",
      "----------------------------------------\n",
      "Fila con datos en columna excedente (Unnamed: 11):\n",
      "MEDIO                                                           alcoi, 66\n",
      "SOPORTE                                                    en mislata, 62\n",
      "URL                                                           en elda, 61\n",
      "TIPO DE MENSAJE                                              en xàbia, 59\n",
      "CONTENIDO A ANALIZAR                                      el campello, 53\n",
      "INTENSIDAD                                             la vila joiosa, 52\n",
      "TIPO DE ODIO                                     burjassot y l'eliana, 51\n",
      "TONO HUMORISTICO                                              godella, 49\n",
      "MODIFICADOR                                                   manises, 48\n",
      "Unnamed: 9                                                    alfafar, 47\n",
      "Unnamed: 10                                                     puçol, 46\n",
      "Unnamed: 11                                                benicàssim, 45\n",
      "Unnamed: 12                               benicarló, petrer y vinaròs, 44\n",
      "Unnamed: 13                                           algemesí y calp, 43\n",
      "Unnamed: 14              aldaia, la pobla de vallbona, 42 y borriana y...\n",
      "Unnamed: 15                                                           0.0\n",
      "Name: 122880, dtype: object\n",
      "----------------------------------------\n",
      "Fila con datos en columna excedente (Unnamed: 12):\n",
      "MEDIO                                                           alcoi, 66\n",
      "SOPORTE                                                    en mislata, 62\n",
      "URL                                                           en elda, 61\n",
      "TIPO DE MENSAJE                                              en xàbia, 59\n",
      "CONTENIDO A ANALIZAR                                      el campello, 53\n",
      "INTENSIDAD                                             la vila joiosa, 52\n",
      "TIPO DE ODIO                                     burjassot y l'eliana, 51\n",
      "TONO HUMORISTICO                                              godella, 49\n",
      "MODIFICADOR                                                   manises, 48\n",
      "Unnamed: 9                                                    alfafar, 47\n",
      "Unnamed: 10                                                     puçol, 46\n",
      "Unnamed: 11                                                benicàssim, 45\n",
      "Unnamed: 12                               benicarló, petrer y vinaròs, 44\n",
      "Unnamed: 13                                           algemesí y calp, 43\n",
      "Unnamed: 14              aldaia, la pobla de vallbona, 42 y borriana y...\n",
      "Unnamed: 15                                                           0.0\n",
      "Name: 122844, dtype: object\n",
      "----------------------------------------\n",
      "Fila con datos en columna excedente (Unnamed: 12):\n",
      "MEDIO                                                           alcoi, 66\n",
      "SOPORTE                                                    en mislata, 62\n",
      "URL                                                           en elda, 61\n",
      "TIPO DE MENSAJE                                              en xàbia, 59\n",
      "CONTENIDO A ANALIZAR                                      el campello, 53\n",
      "INTENSIDAD                                             la vila joiosa, 52\n",
      "TIPO DE ODIO                                     burjassot y l'eliana, 51\n",
      "TONO HUMORISTICO                                              godella, 49\n",
      "MODIFICADOR                                                   manises, 48\n",
      "Unnamed: 9                                                    alfafar, 47\n",
      "Unnamed: 10                                                     puçol, 46\n",
      "Unnamed: 11                                                benicàssim, 45\n",
      "Unnamed: 12                               benicarló, petrer y vinaròs, 44\n",
      "Unnamed: 13                                           algemesí y calp, 43\n",
      "Unnamed: 14              aldaia, la pobla de vallbona, 42 y borriana y...\n",
      "Unnamed: 15                                                           0.0\n",
      "Name: 122880, dtype: object\n",
      "----------------------------------------\n",
      "Fila con datos en columna excedente (Unnamed: 13):\n",
      "MEDIO                                                           alcoi, 66\n",
      "SOPORTE                                                    en mislata, 62\n",
      "URL                                                           en elda, 61\n",
      "TIPO DE MENSAJE                                              en xàbia, 59\n",
      "CONTENIDO A ANALIZAR                                      el campello, 53\n",
      "INTENSIDAD                                             la vila joiosa, 52\n",
      "TIPO DE ODIO                                     burjassot y l'eliana, 51\n",
      "TONO HUMORISTICO                                              godella, 49\n",
      "MODIFICADOR                                                   manises, 48\n",
      "Unnamed: 9                                                    alfafar, 47\n",
      "Unnamed: 10                                                     puçol, 46\n",
      "Unnamed: 11                                                benicàssim, 45\n",
      "Unnamed: 12                               benicarló, petrer y vinaròs, 44\n",
      "Unnamed: 13                                           algemesí y calp, 43\n",
      "Unnamed: 14              aldaia, la pobla de vallbona, 42 y borriana y...\n",
      "Unnamed: 15                                                           0.0\n",
      "Name: 122844, dtype: object\n",
      "----------------------------------------\n",
      "Fila con datos en columna excedente (Unnamed: 13):\n",
      "MEDIO                                                           alcoi, 66\n",
      "SOPORTE                                                    en mislata, 62\n",
      "URL                                                           en elda, 61\n",
      "TIPO DE MENSAJE                                              en xàbia, 59\n",
      "CONTENIDO A ANALIZAR                                      el campello, 53\n",
      "INTENSIDAD                                             la vila joiosa, 52\n",
      "TIPO DE ODIO                                     burjassot y l'eliana, 51\n",
      "TONO HUMORISTICO                                              godella, 49\n",
      "MODIFICADOR                                                   manises, 48\n",
      "Unnamed: 9                                                    alfafar, 47\n",
      "Unnamed: 10                                                     puçol, 46\n",
      "Unnamed: 11                                                benicàssim, 45\n",
      "Unnamed: 12                               benicarló, petrer y vinaròs, 44\n",
      "Unnamed: 13                                           algemesí y calp, 43\n",
      "Unnamed: 14              aldaia, la pobla de vallbona, 42 y borriana y...\n",
      "Unnamed: 15                                                           0.0\n",
      "Name: 122880, dtype: object\n",
      "----------------------------------------\n",
      "Fila con datos en columna excedente (Unnamed: 14):\n",
      "MEDIO                                                           alcoi, 66\n",
      "SOPORTE                                                    en mislata, 62\n",
      "URL                                                           en elda, 61\n",
      "TIPO DE MENSAJE                                              en xàbia, 59\n",
      "CONTENIDO A ANALIZAR                                      el campello, 53\n",
      "INTENSIDAD                                             la vila joiosa, 52\n",
      "TIPO DE ODIO                                     burjassot y l'eliana, 51\n",
      "TONO HUMORISTICO                                              godella, 49\n",
      "MODIFICADOR                                                   manises, 48\n",
      "Unnamed: 9                                                    alfafar, 47\n",
      "Unnamed: 10                                                     puçol, 46\n",
      "Unnamed: 11                                                benicàssim, 45\n",
      "Unnamed: 12                               benicarló, petrer y vinaròs, 44\n",
      "Unnamed: 13                                           algemesí y calp, 43\n",
      "Unnamed: 14              aldaia, la pobla de vallbona, 42 y borriana y...\n",
      "Unnamed: 15                                                           0.0\n",
      "Name: 122844, dtype: object\n",
      "----------------------------------------\n",
      "Fila con datos en columna excedente (Unnamed: 14):\n",
      "MEDIO                                                           alcoi, 66\n",
      "SOPORTE                                                    en mislata, 62\n",
      "URL                                                           en elda, 61\n",
      "TIPO DE MENSAJE                                              en xàbia, 59\n",
      "CONTENIDO A ANALIZAR                                      el campello, 53\n",
      "INTENSIDAD                                             la vila joiosa, 52\n",
      "TIPO DE ODIO                                     burjassot y l'eliana, 51\n",
      "TONO HUMORISTICO                                              godella, 49\n",
      "MODIFICADOR                                                   manises, 48\n",
      "Unnamed: 9                                                    alfafar, 47\n",
      "Unnamed: 10                                                     puçol, 46\n",
      "Unnamed: 11                                                benicàssim, 45\n",
      "Unnamed: 12                               benicarló, petrer y vinaròs, 44\n",
      "Unnamed: 13                                           algemesí y calp, 43\n",
      "Unnamed: 14              aldaia, la pobla de vallbona, 42 y borriana y...\n",
      "Unnamed: 15                                                           0.0\n",
      "Name: 122880, dtype: object\n",
      "----------------------------------------\n",
      "Fila con datos en columna excedente (Unnamed: 15):\n",
      "MEDIO                                                           alcoi, 66\n",
      "SOPORTE                                                    en mislata, 62\n",
      "URL                                                           en elda, 61\n",
      "TIPO DE MENSAJE                                              en xàbia, 59\n",
      "CONTENIDO A ANALIZAR                                      el campello, 53\n",
      "INTENSIDAD                                             la vila joiosa, 52\n",
      "TIPO DE ODIO                                     burjassot y l'eliana, 51\n",
      "TONO HUMORISTICO                                              godella, 49\n",
      "MODIFICADOR                                                   manises, 48\n",
      "Unnamed: 9                                                    alfafar, 47\n",
      "Unnamed: 10                                                     puçol, 46\n",
      "Unnamed: 11                                                benicàssim, 45\n",
      "Unnamed: 12                               benicarló, petrer y vinaròs, 44\n",
      "Unnamed: 13                                           algemesí y calp, 43\n",
      "Unnamed: 14              aldaia, la pobla de vallbona, 42 y borriana y...\n",
      "Unnamed: 15                                                           0.0\n",
      "Name: 122844, dtype: object\n",
      "----------------------------------------\n",
      "Fila con datos en columna excedente (Unnamed: 15):\n",
      "MEDIO                                                           alcoi, 66\n",
      "SOPORTE                                                    en mislata, 62\n",
      "URL                                                           en elda, 61\n",
      "TIPO DE MENSAJE                                              en xàbia, 59\n",
      "CONTENIDO A ANALIZAR                                      el campello, 53\n",
      "INTENSIDAD                                             la vila joiosa, 52\n",
      "TIPO DE ODIO                                     burjassot y l'eliana, 51\n",
      "TONO HUMORISTICO                                              godella, 49\n",
      "MODIFICADOR                                                   manises, 48\n",
      "Unnamed: 9                                                    alfafar, 47\n",
      "Unnamed: 10                                                     puçol, 46\n",
      "Unnamed: 11                                                benicàssim, 45\n",
      "Unnamed: 12                               benicarló, petrer y vinaròs, 44\n",
      "Unnamed: 13                                           algemesí y calp, 43\n",
      "Unnamed: 14              aldaia, la pobla de vallbona, 42 y borriana y...\n",
      "Unnamed: 15                                                           0.0\n",
      "Name: 122880, dtype: object\n",
      "----------------------------------------\n",
      "Columnas eliminadas: 7\n",
      "Filas afectadas por columnas eliminadas: 16\n"
     ]
    }
   ],
   "source": [
    "import pandas as pd\n",
    "\n",
    "# Configura el nombre de tu archivo CSV original y el de salida\n",
    "input_file = \"comentariosOdio.csv\"\n",
    "output_file = \"comentariosOdioLimpio.csv\"\n",
    "\n",
    "# Lee el archivo con utf-8 y evita errores de codificación\n",
    "try:\n",
    "    with open(input_file, encoding='utf-8', errors='replace') as file:\n",
    "        df = pd.read_csv(file, delimiter=';', engine='python')\n",
    "except Exception as e:\n",
    "    print(f\"Error al leer el archivo: {e}\")\n",
    "    exit()\n",
    "\n",
    "# Guarda el número de columnas base (número de columnas en la primera fila)\n",
    "num_columnas_base = 9\n",
    "\n",
    "# Encuentra columnas con índice mayor al número de columnas base\n",
    "exceso_columnas = df.columns[num_columnas_base:]\n",
    "\n",
    "# Lista para almacenar las filas con datos en columnas excedentes\n",
    "filas_con_datos_excedentes = []\n",
    "\n",
    "# Verifica si alguna de las columnas excedentes tiene datos\n",
    "for col in exceso_columnas:\n",
    "    if df[col].notnull().any():\n",
    "        # Obtén las filas donde esta columna tiene datos\n",
    "        filas_con_datos = df[df[col].notnull()]\n",
    "        filas_con_datos_excedentes.append(filas_con_datos)\n",
    "        # Imprime cada fila que tiene datos en una columna excedente\n",
    "        for idx, fila in filas_con_datos.iterrows():\n",
    "            print(f\"Fila con datos en columna excedente ({col}):\")\n",
    "            print(fila)\n",
    "            print(\"-\" * 40)\n",
    "\n",
    "# Elimina las columnas excedentes del DataFrame\n",
    "df = df.iloc[:, :num_columnas_base]\n",
    "\n",
    "# Imprime un resumen\n",
    "print(f\"Columnas eliminadas: {len(exceso_columnas)}\")\n",
    "print(f\"Filas afectadas por columnas eliminadas: {sum([len(f) for f in filas_con_datos_excedentes])}\")"
   ]
  },
  {
   "cell_type": "code",
   "execution_count": 7,
   "metadata": {},
   "outputs": [],
   "source": [
    "#limpiar el df quitando todas las columnas menos CONTENIDO A ANALIZAR e INTENSIDAD\n",
    "df = df[[\"CONTENIDO A ANALIZAR\", \"INTENSIDAD\"]]"
   ]
  },
  {
   "cell_type": "code",
   "execution_count": 8,
   "metadata": {},
   "outputs": [
    {
     "name": "stdout",
     "output_type": "stream",
     "text": [
      "Filas en el DataFrame: 485712\n"
     ]
    }
   ],
   "source": [
    "# Si la fila es nula o duplicada, eliminar\n",
    "df = df.dropna()\n",
    "df = df.drop_duplicates()\n",
    "\n",
    "# contar cuantas filas tiene el df\n",
    "print(f\"Filas en el DataFrame: {len(df)}\")"
   ]
  },
  {
   "cell_type": "code",
   "execution_count": 9,
   "metadata": {},
   "outputs": [
    {
     "name": "stdout",
     "output_type": "stream",
     "text": [
      "Archivo limpio guardado como 'comentariosOdioLimpio.csv'\n"
     ]
    }
   ],
   "source": [
    "# Guarda el archivo limpio\n",
    "try:\n",
    "    df.to_csv(output_file, sep=';', index=False, encoding='utf-8')\n",
    "    print(f\"Archivo limpio guardado como '{output_file}'\")\n",
    "except Exception as e:\n",
    "    print(f\"Error al guardar el archivo: {e}\")"
   ]
  },
  {
   "cell_type": "code",
   "execution_count": 10,
   "metadata": {},
   "outputs": [
    {
     "name": "stdout",
     "output_type": "stream",
     "text": [
      "Columnas con valores nulos: Empty DataFrame\n",
      "Columns: [CONTENIDO A ANALIZAR, INTENSIDAD]\n",
      "Index: []\n",
      "Filas duplicadas: 0\n"
     ]
    }
   ],
   "source": [
    "# Buscar filas nulas o repetidas\n",
    "\n",
    "# Crea una lista de filas con valores nulos\n",
    "filas_nulas = df[df.isnull().any(axis=1)]\n",
    "\n",
    "# Crea una lista de filas duplicadas\n",
    "filas_duplicadas = df[df.duplicated()]\n",
    "\n",
    "# Imprime un resumen\n",
    "print(f\"Columnas con valores nulos: {filas_nulas}\")\n",
    "print(f\"Filas duplicadas: {len(filas_duplicadas)}\")"
   ]
  },
  {
   "cell_type": "markdown",
   "metadata": {},
   "source": [
    "<b>Incluye aquí, debajo de la línea, la explicación de tu respuesta</b>\n",
    "<hr>\n",
    "\n",
    "Después de limpiar el dataset de columnas innecesarias, filas nulas y valores duplicados, el dataset contiene 485712 registros si miramos el número de filas del CSV"
   ]
  },
  {
   "cell_type": "markdown",
   "metadata": {},
   "source": [
    "<span style=\"font-size: 14pt; font-weight: bold; color: #0098cd;\">Pregunta 2.</span>\n",
    "<span style=\"font-size: 14pt; font-weight: bold; color: #0098cd;\">¿Cuántas palabras totales hay en los comentarios del corpus?</span>"
   ]
  },
  {
   "cell_type": "code",
   "execution_count": 11,
   "metadata": {},
   "outputs": [
    {
     "name": "stdout",
     "output_type": "stream",
     "text": [
      "Número total de palabras en el corpus: 60518520\n"
     ]
    }
   ],
   "source": [
    "data = pd.read_csv(\"comentariosOdioLimpio.csv\", delimiter=';', encoding= 'utf-8')\n",
    "\n",
    "if \"CONTENIDO A ANALIZAR\" in data.columns:\n",
    "    # Combinar todos los comentarios de la columna en un solo texto\n",
    "    texto_completo = \" \".join(data[\"CONTENIDO A ANALIZAR\"].astype(str))\n",
    "\n",
    "    # Contar las palabras\n",
    "    numero_palabras = len(texto_completo.split())\n",
    "\n",
    "    print(f\"Número total de palabras en el corpus: {numero_palabras}\")\n",
    "else:\n",
    "    print(\"La columna 'CONTENIDO A ANALIZAR' no existe en el dataset.\")"
   ]
  },
  {
   "cell_type": "markdown",
   "metadata": {},
   "source": [
    "<b>Incluye aquí, debajo de la línea, la explicación de tu respuesta</b>\n",
    "<hr>\n",
    "\n",
    "Después de eliminar las columnas repetidas, nulas y las columnas que no son relevantes, si revisamos el contenido de la columna de comentarios llamada \"CONTENIDO A ANALIZAR\", podemos observar que el corpus contiene un total de 60518520 palabras.\n"
   ]
  },
  {
   "cell_type": "markdown",
   "metadata": {},
   "source": [
    "<span style=\"font-size: 14pt; font-weight: bold; color: #0098cd;\">Pregunta 3.</span>\n",
    "<span style=\"font-size: 14pt; font-weight: bold; color: #0098cd;\">¿Cuál el número promedio de palabras en cada comentario?</span>"
   ]
  },
  {
   "cell_type": "code",
   "execution_count": 12,
   "metadata": {},
   "outputs": [],
   "source": [
    "def contar_palabras(texto):\n",
    "    if isinstance(texto, str):\n",
    "        return len(texto.split())\n",
    "    return 0"
   ]
  },
  {
   "cell_type": "code",
   "execution_count": 13,
   "metadata": {},
   "outputs": [
    {
     "name": "stdout",
     "output_type": "stream",
     "text": [
      "Número promedio de palabras por comentario: 124.5975392825378\n",
      "\n",
      "Estadísticas adicionales:\n",
      "count    485712.000000\n",
      "mean        124.597539\n",
      "std         272.501166\n",
      "min           0.000000\n",
      "25%          10.000000\n",
      "50%          19.000000\n",
      "75%          59.000000\n",
      "max        5341.000000\n",
      "Name: num_palabras, dtype: float64\n"
     ]
    }
   ],
   "source": [
    "columna = \"CONTENIDO A ANALIZAR\"\n",
    "if columna in data.columns:\n",
    "\n",
    "    comentarios = data[columna]\n",
    "    \n",
    "    # Aplicamos la función a cada comentario\n",
    "    data[\"num_palabras\"] = comentarios.apply(contar_palabras)\n",
    "    \n",
    "    # Calcular el promedio de palabras por comentario\n",
    "    promedio = data[\"num_palabras\"].mean()\n",
    "    \n",
    "    print(f\"Número promedio de palabras por comentario: {promedio}\")\n",
    "    \n",
    "    print(\"\\nEstadísticas adicionales:\")\n",
    "    print(data[\"num_palabras\"].describe())\n",
    "else:\n",
    "    print(f\"La columna '{columna}' no existe en el dataset.\")"
   ]
  },
  {
   "cell_type": "markdown",
   "metadata": {},
   "source": [
    "<b>Incluye aquí, debajo de la línea, la explicación de tu respuesta</b>\n",
    "<hr>\n",
    "\n",
    "El número medio de palabras por comentario es de aproximadamente  124.6. "
   ]
  },
  {
   "cell_type": "markdown",
   "metadata": {},
   "source": [
    "<span style=\"font-size: 14pt; font-weight: bold; color: #0098cd;\">Pregunta 4.</span>\n",
    "<span style=\"font-size: 14pt; font-weight: bold; color: #0098cd;\">Considerando dos grupos de comentarios (odio y no odio) ¿Cuál el número promedio de palabras en los comentarios de cada grupo?</span>"
   ]
  },
  {
   "cell_type": "code",
   "execution_count": 14,
   "metadata": {},
   "outputs": [
    {
     "name": "stdout",
     "output_type": "stream",
     "text": [
      "0     3.0\n",
      "1     0.0\n",
      "2     3.0\n",
      "3     3.0\n",
      "4     3.0\n",
      "5     3.0\n",
      "6     4.0\n",
      "7     3.0\n",
      "8     4.0\n",
      "9     3.0\n",
      "10    3.0\n",
      "11    4.0\n",
      "12    0.0\n",
      "13    4.0\n",
      "14    4.0\n",
      "15    3.0\n",
      "16    0.0\n",
      "17    3.0\n",
      "18    0.0\n",
      "19    0.0\n",
      "Name: INTENSIDAD, dtype: object\n",
      "object\n",
      "float64\n"
     ]
    }
   ],
   "source": [
    "#implrimir 20 valores de la comlumna INTENSIDAD y su type\n",
    "print(data[\"INTENSIDAD\"].head(20))\n",
    "print(data[\"INTENSIDAD\"].dtype)\n",
    "\n",
    "# Convertir la columna INTENSIDAD a tipo numérico\n",
    "data[\"INTENSIDAD\"] = pd.to_numeric(data[\"INTENSIDAD\"], errors='coerce')\n",
    "\n",
    "# Verificar si la conversión fue exitosa\n",
    "print(data[\"INTENSIDAD\"].dtype)"
   ]
  },
  {
   "cell_type": "code",
   "execution_count": 15,
   "metadata": {},
   "outputs": [
    {
     "name": "stdout",
     "output_type": "stream",
     "text": [
      "Número promedio de palabras por comentario (sin odio): 127.16041126120524\n",
      "Número promedio de palabras por comentario (con odio): 16.69876630868909\n"
     ]
    }
   ],
   "source": [
    "# media de palabras por comentario si intensidad == 0 y para intensidad >0\n",
    "\n",
    "# Filtrar comentarios con intensidad 0\n",
    "comentarios_no_odio = data[data[\"INTENSIDAD\"] == 0]\n",
    "\n",
    "# Filtrar comentarios con intensidad mayor a 0\n",
    "comentarios_odio = data[data[\"INTENSIDAD\"] > 0]\n",
    "\n",
    "# Calcular el promedio de palabras por comentario\n",
    "promedio_no_odio = comentarios_no_odio[\"num_palabras\"].mean()\n",
    "promedio_odio = comentarios_odio[\"num_palabras\"].mean()\n",
    "\n",
    "print(f\"Número promedio de palabras por comentario (sin odio): {promedio_no_odio}\")\n",
    "print(f\"Número promedio de palabras por comentario (con odio): {promedio_odio}\")\n"
   ]
  },
  {
   "cell_type": "code",
   "execution_count": 16,
   "metadata": {},
   "outputs": [],
   "source": [
    "#borrar columna\n",
    "data = data.drop(columns=[\"num_palabras\"])"
   ]
  },
  {
   "cell_type": "markdown",
   "metadata": {},
   "source": [
    "<b>Incluye aquí, debajo de la línea, la explicación de tu respuesta</b>\n",
    "<hr>\n",
    " \n",
    "Si filtramos los datos de filas donde no se dice si hay odio y en las que si hay odio y luego hacemos la media, podemos ver que la media de palabras en comentarios de odio es de 16.69. \n",
    "\n",
    "Mientras que la media de palabras en comentarios que no son de odio es de 127.16."
   ]
  },
  {
   "cell_type": "markdown",
   "metadata": {},
   "source": [
    "<span style=\"font-size: 14pt; font-weight: bold; color: #0098cd;\">Pregunta 5.</span>\n",
    "<span style=\"font-size: 14pt; font-weight: bold; color: #0098cd;\">Considerando dos grupos de comentarios (odio y no odio) ¿Cuál es el número promedio de oraciones en los comentarios de cada grupo?</span>"
   ]
  },
  {
   "cell_type": "code",
   "execution_count": 17,
   "metadata": {},
   "outputs": [],
   "source": [
    "def contar_oraciones(texto):\n",
    "    if isinstance(texto, str):\n",
    "        # Dividir por \".\", \"?\" o \"!\" y eliminar vacíos\n",
    "        return len([oracion.strip() for oracion in texto.split('.') if oracion.strip()])\n",
    "    return 0"
   ]
  },
  {
   "cell_type": "code",
   "execution_count": 18,
   "metadata": {},
   "outputs": [
    {
     "name": "stdout",
     "output_type": "stream",
     "text": [
      "Número promedio de oraciones por comentario (sin odio): 5.864360945361192\n",
      "Número promedio de oraciones por comentario (con odio): 1.6069938759208307\n"
     ]
    },
    {
     "name": "stderr",
     "output_type": "stream",
     "text": [
      "C:\\Users\\Usuario\\AppData\\Local\\Temp\\ipykernel_11388\\1189685917.py:10: SettingWithCopyWarning: \n",
      "A value is trying to be set on a copy of a slice from a DataFrame.\n",
      "Try using .loc[row_indexer,col_indexer] = value instead\n",
      "\n",
      "See the caveats in the documentation: https://pandas.pydata.org/pandas-docs/stable/user_guide/indexing.html#returning-a-view-versus-a-copy\n",
      "  comentarios_no_odio[\"num_oraciones\"] = comentarios_no_odio[\"CONTENIDO A ANALIZAR\"].apply(contar_oraciones)\n",
      "C:\\Users\\Usuario\\AppData\\Local\\Temp\\ipykernel_11388\\1189685917.py:11: SettingWithCopyWarning: \n",
      "A value is trying to be set on a copy of a slice from a DataFrame.\n",
      "Try using .loc[row_indexer,col_indexer] = value instead\n",
      "\n",
      "See the caveats in the documentation: https://pandas.pydata.org/pandas-docs/stable/user_guide/indexing.html#returning-a-view-versus-a-copy\n",
      "  comentarios_odio[\"num_oraciones\"] = comentarios_odio[\"CONTENIDO A ANALIZAR\"].apply(contar_oraciones)\n"
     ]
    }
   ],
   "source": [
    "# contar nº de oraciones en cada comentario de odio o no odio\n",
    "\n",
    "# Filtrar comentarios con intensidad 0\n",
    "comentarios_no_odio = data[data[\"INTENSIDAD\"] == 0]\n",
    "\n",
    "# Filtrar comentarios con intensidad mayor a 0\n",
    "comentarios_odio = data[data[\"INTENSIDAD\"] > 0]\n",
    "\n",
    "# Aplicar la función a cada comentario\n",
    "comentarios_no_odio[\"num_oraciones\"] = comentarios_no_odio[\"CONTENIDO A ANALIZAR\"].apply(contar_oraciones)\n",
    "comentarios_odio[\"num_oraciones\"] = comentarios_odio[\"CONTENIDO A ANALIZAR\"].apply(contar_oraciones)\n",
    "\n",
    "# Calcular el promedio de oraciones por comentario\n",
    "promedio_no_odio = comentarios_no_odio[\"num_oraciones\"].mean()\n",
    "promedio_odio = comentarios_odio[\"num_oraciones\"].mean()\n",
    "\n",
    "print(f\"Número promedio de oraciones por comentario (sin odio): {promedio_no_odio}\")\n",
    "print(f\"Número promedio de oraciones por comentario (con odio): {promedio_odio}\")"
   ]
  },
  {
   "cell_type": "markdown",
   "metadata": {},
   "source": [
    "<b>Incluye aquí, debajo de la línea, la explicación de tu respuesta</b>\n",
    "<hr>\n",
    " \n",
    "Las oraciones se suelen separar por \".\", \"?\" o \"!\", por lo que si separamos las oraciones por ahí y hacemos la media de oraciones por cada grupo, nos da que el promedio de oraciones en comentarios de odio es de aproximadamente 1.61.\n",
    "\n",
    "Mientras que el promedio de oraciones en comentarios que no son de odio es de aproximadamente 5.86."
   ]
  },
  {
   "cell_type": "markdown",
   "metadata": {},
   "source": [
    "<span style=\"font-size: 14pt; font-weight: bold; color: #0098cd;\">Pregunta 6.</span>\n",
    "<span style=\"font-size: 14pt; font-weight: bold; color: #0098cd;\">Considerando dos grupos de comentarios (odio y no odio) ¿Cuál es el porcentaje de comentarios que contienen entidades NER en cada grupo?</span>"
   ]
  },
  {
   "cell_type": "markdown",
   "metadata": {},
   "source": [
    "A partir de ahora, tras muchos experimentos donde me daba un error en el kernel, tal y como ha dicho el profesor en las clases online, voy a hacerlo con 10k filas para poder realizar el resto de la actividad. Las filas serán seleccionadas aleatoriamente con una seed para que sea reproducible e intente tener los menos sesgos posibles."
   ]
  },
  {
   "cell_type": "code",
   "execution_count": 19,
   "metadata": {},
   "outputs": [],
   "source": [
    "data = data.sample(n=10000, random_state = 3)"
   ]
  },
  {
   "cell_type": "code",
   "execution_count": 20,
   "metadata": {},
   "outputs": [
    {
     "name": "stdout",
     "output_type": "stream",
     "text": [
      "Número promedio de palabras por comentario: 125.5191\n",
      "\n",
      "Estadísticas adicionales:\n",
      "count    10000.000000\n",
      "mean       125.519100\n",
      "std        276.034769\n",
      "min          1.000000\n",
      "25%         10.000000\n",
      "50%         19.000000\n",
      "75%         57.000000\n",
      "max       4101.000000\n",
      "Name: num_palabras, dtype: float64\n"
     ]
    }
   ],
   "source": [
    "columna = \"CONTENIDO A ANALIZAR\"\n",
    "if columna in data.columns:\n",
    "\n",
    "    comentarios = data[columna]\n",
    "    \n",
    "    # Aplicamos la función a cada comentario\n",
    "    data[\"num_palabras\"] = comentarios.apply(contar_palabras)\n",
    "    \n",
    "    # Calcular el promedio de palabras por comentario\n",
    "    promedio = data[\"num_palabras\"].mean()\n",
    "    \n",
    "    print(f\"Número promedio de palabras por comentario: {promedio}\")\n",
    "    \n",
    "    print(\"\\nEstadísticas adicionales:\")\n",
    "    print(data[\"num_palabras\"].describe())\n",
    "else:\n",
    "    print(f\"La columna '{columna}' no existe en el dataset.\")"
   ]
  },
  {
   "cell_type": "code",
   "execution_count": 21,
   "metadata": {},
   "outputs": [
    {
     "name": "stdout",
     "output_type": "stream",
     "text": [
      "Número promedio de palabras por comentario (sin odio): 128.02157905502148\n",
      "Número promedio de palabras por comentario (con odio): 15.297297297297296\n"
     ]
    }
   ],
   "source": [
    "# media de palabras por comentario si intensidad == 0 y para intensidad >0\n",
    "\n",
    "# Filtrar comentarios con intensidad 0\n",
    "comentarios_no_odio = data[data[\"INTENSIDAD\"] == 0]\n",
    "\n",
    "# Filtrar comentarios con intensidad mayor a 0\n",
    "comentarios_odio = data[data[\"INTENSIDAD\"] > 0]\n",
    "\n",
    "# Calcular el promedio de palabras por comentario\n",
    "promedio_no_odio = comentarios_no_odio[\"num_palabras\"].mean()\n",
    "promedio_odio = comentarios_odio[\"num_palabras\"].mean()\n",
    "\n",
    "print(f\"Número promedio de palabras por comentario (sin odio): {promedio_no_odio}\")\n",
    "print(f\"Número promedio de palabras por comentario (con odio): {promedio_odio}\")\n"
   ]
  },
  {
   "cell_type": "markdown",
   "metadata": {},
   "source": [
    "Tras probar varias seeds, he determinado que '7' es valida ya que tiene casi el mismo número de palabras por comentario y un numero de palabras por comentario de odio o no odio muy parecido al del dataset original."
   ]
  },
  {
   "cell_type": "code",
   "execution_count": 22,
   "metadata": {},
   "outputs": [],
   "source": [
    "data = data.drop(columns=[\"num_palabras\"])"
   ]
  },
  {
   "cell_type": "code",
   "execution_count": 23,
   "metadata": {},
   "outputs": [
    {
     "name": "stdout",
     "output_type": "stream",
     "text": [
      "Número de filas con más de 1000 palabras: 16\n",
      "                                     CONTENIDO A ANALIZAR  word_count\n",
      "51948   en el erial que llevaba siendo la ópera ingles...        2420\n",
      "344059  clara lago es tan buena conversadora que, con ...        2422\n",
      "215618  el próximo 9 de mayo termina el estado de alar...        2130\n",
      "384293  como el queso azul o el lsd, la cumbia rebajad...        3486\n",
      "243544  el daño ya es irreversible. pase lo que pase, ...        2464\n",
      "100560  ni cámaras ni llamadas a la prensa ni multitud...        2047\n",
      "181056  la vida y el fútbol van tan endemoniadamente v...        2257\n",
      "338228  en tres semanas volverá sexo en nueva york (ah...        2122\n",
      "319543  de matices complejos, finos y elegantes. perfe...        4030\n",
      "319336  en verano, muchos españoles cambian sus hábito...        2072\n",
      "477963  a los 15 años, maría de quesada intentó quitar...        2198\n",
      "472770  ¡madre del verbo la noche que se ha vivido en ...        2592\n",
      "431398  nota a los lectores: el país ofrece en abierto...        2133\n",
      "474555  la línea del tiempo más macabra de la historia...        4101\n",
      "431418  nota a los lectores: el país ofrece en abierto...        2348\n",
      "381794  la espantada estadounidense de afganistán del ...        2269\n"
     ]
    }
   ],
   "source": [
    "# Contar las palabras en \"CONTENIDO A ANALIZAR\"\n",
    "data['word_count'] = data['CONTENIDO A ANALIZAR'].apply(lambda x: len(str(x).split()))\n",
    "\n",
    "# Filtrar las filas con más de 1000 palabras\n",
    "rows_with_many_words = data[data['word_count'] > 2000]\n",
    "\n",
    "# Mostrar el número de filas y sus índices\n",
    "print(f\"Número de filas con más de 1000 palabras: {len(rows_with_many_words)}\")\n",
    "print(rows_with_many_words[['CONTENIDO A ANALIZAR', 'word_count']])\n"
   ]
  },
  {
   "cell_type": "code",
   "execution_count": 24,
   "metadata": {},
   "outputs": [],
   "source": [
    "#data = data[data['word_count']<=500]"
   ]
  },
  {
   "cell_type": "markdown",
   "metadata": {},
   "source": [
    "Ahora vamos a responder a la pregunta"
   ]
  },
  {
   "cell_type": "code",
   "execution_count": 25,
   "metadata": {},
   "outputs": [],
   "source": [
    "# Función para aplicar NER en lotes usando nlp.pipe\n",
    "def detect_ner_in_batches(texts, batch_size=50):\n",
    "    has_ner = []\n",
    "    for doc in nlp.pipe(texts, batch_size=batch_size, disable=[\"tagger\", \"parser\"]):  # Solo NER\n",
    "        has_ner.append(len(doc.ents) > 0)\n",
    "    return has_ner\n"
   ]
  },
  {
   "cell_type": "code",
   "execution_count": 26,
   "metadata": {},
   "outputs": [
    {
     "name": "stdout",
     "output_type": "stream",
     "text": [
      "Porcentaje de comentarios con NER (odio): 36.94%\n",
      "Porcentaje de comentarios con NER (no odio): 59.59%\n"
     ]
    }
   ],
   "source": [
    "# Dividir en dos grupos (trabajando con copias explícitas para evitar el SettingWithCopyWarning)\n",
    "odio = data[data['INTENSIDAD'] > 0.0].copy()\n",
    "no_odio = data[data['INTENSIDAD'] == 0.0].copy()\n",
    "\n",
    "# Procesar comentarios con spaCy en lotes y asignar los resultados\n",
    "odio.loc[:, 'has_ner'] = detect_ner_in_batches(odio['CONTENIDO A ANALIZAR'], batch_size=50)\n",
    "no_odio.loc[:, 'has_ner'] = detect_ner_in_batches(no_odio['CONTENIDO A ANALIZAR'], batch_size=50)\n",
    "\n",
    "# Calcular porcentajes\n",
    "porcentaje_ner_odio = (odio['has_ner'].mean()) * 100\n",
    "porcentaje_ner_no_odio = (no_odio['has_ner'].mean()) * 100\n",
    "\n",
    "print(f\"Porcentaje de comentarios con NER (odio): {porcentaje_ner_odio:.2f}%\")\n",
    "print(f\"Porcentaje de comentarios con NER (no odio): {porcentaje_ner_no_odio:.2f}%\")"
   ]
  },
  {
   "cell_type": "markdown",
   "metadata": {},
   "source": [
    "<b>Incluye aquí, debajo de la línea, la explicación de tu respuesta</b>\n",
    "<hr>\n",
    " \n",
    "Tras usar 10k comentarios, podemos ver los porcentajes:\n",
    "\n",
    "Porcentaje de comentarios con NER (odio): 36.94%\n",
    "Porcentaje de comentarios con NER (no odio): 59.59%"
   ]
  },
  {
   "cell_type": "markdown",
   "metadata": {},
   "source": [
    "<span style=\"font-size: 14pt; font-weight: bold; color: #0098cd;\">Pregunta 7.</span>\n",
    "<span style=\"font-size: 14pt; font-weight: bold; color: #0098cd;\">Considerando dos grupos de comentarios (odio y no odio) ¿Cuál es el porcentaje de comentarios que contienen entidades NER de tipo PERSON en cada grupo?</span>"
   ]
  },
  {
   "cell_type": "code",
   "execution_count": 27,
   "metadata": {},
   "outputs": [],
   "source": [
    "def has_person_entity(texts, batch_size=50):\n",
    "    has_person = []\n",
    "    for doc in nlp.pipe(texts, batch_size=batch_size, disable=[\"tagger\", \"parser\"]):  # Solo NER\n",
    "        # Verificar si hay al menos una entidad de tipo \"PERSON\"\n",
    "        has_person.append(any(ent.label_ == \"PERSON\" for ent in doc.ents))\n",
    "    return has_person"
   ]
  },
  {
   "cell_type": "code",
   "execution_count": 29,
   "metadata": {},
   "outputs": [
    {
     "name": "stdout",
     "output_type": "stream",
     "text": [
      "Porcentaje de comentarios con entidades PERSON (odio): 0.00%\n",
      "Porcentaje de comentarios con entidades PERSON (no odio): 0.00%\n"
     ]
    }
   ],
   "source": [
    "# Dividir en dos grupos (trabajando con copias explícitas para evitar el SettingWithCopyWarning)\n",
    "odio = data[data['INTENSIDAD'] > 0.0].copy()\n",
    "no_odio = data[data['INTENSIDAD'] == 0.0].copy()\n",
    "\n",
    "# Procesar comentarios con spaCy en lotes y asignar los resultados\n",
    "odio.loc[:, 'has_person'] = has_person_entity(odio['CONTENIDO A ANALIZAR'], batch_size=50)\n",
    "no_odio.loc[:, 'has_person'] = has_person_entity(no_odio['CONTENIDO A ANALIZAR'], batch_size=50)\n",
    "\n",
    "# Calcular porcentajes\n",
    "porcentaje_person_odio = (odio['has_person'].mean()) * 100\n",
    "porcentaje_person_no_odio = (no_odio['has_person'].mean()) * 100\n",
    "\n",
    "print(f\"Porcentaje de comentarios con entidades PERSON (odio): {porcentaje_person_odio:.2f}%\")\n",
    "print(f\"Porcentaje de comentarios con entidades PERSON (no odio): {porcentaje_person_no_odio:.2f}%\")"
   ]
  },
  {
   "cell_type": "code",
   "execution_count": 32,
   "metadata": {},
   "outputs": [
    {
     "ename": "",
     "evalue": "",
     "output_type": "error",
     "traceback": [
      "\u001b[1;31mThe Kernel crashed while executing code in the current cell or a previous cell. \n",
      "\u001b[1;31mPlease review the code in the cell(s) to identify a possible cause of the failure. \n",
      "\u001b[1;31mClick <a href='https://aka.ms/vscodeJupyterKernelCrash'>here</a> for more info. \n",
      "\u001b[1;31mView Jupyter <a href='command:jupyter.viewOutput'>log</a> for further details."
     ]
    }
   ],
   "source": [
    "# Obtener el primer registro\n",
    "primer_comentario = data.loc[61377, \"CONTENIDO A ANALIZAR\"]  # Asegúrate de que esta columna existe y contiene texto\n",
    "\n",
    "# Procesar el primer comentario\n",
    "doc = nlp(primer_comentario)\n",
    "\n",
    "# Extraer entidades de tipo PERSON\n",
    "entidades_person = [ent.text for ent in doc.ents if ent.label_ == \"PER\"]\n",
    "\n",
    "# Resultado\n",
    "print(\"Comentario:\", primer_comentario)\n",
    "print(\"Entidades de tipo PERSON:\", entidades_person)\n"
   ]
  },
  {
   "cell_type": "markdown",
   "metadata": {},
   "source": [
    "<b>Incluye aquí, debajo de la línea, la explicación de tu respuesta</b>\n",
    "<hr>\n",
    " "
   ]
  },
  {
   "cell_type": "markdown",
   "metadata": {},
   "source": [
    "<span style=\"font-size: 14pt; font-weight: bold; color: #0098cd;\">Pregunta 8.</span>\n",
    "<span style=\"font-size: 14pt; font-weight: bold; color: #0098cd;\">Considerando dos grupos de comentarios (odio y no odio) ¿Cuál es el porcentaje de palabras en cada combinación posible de género y número (p.ej. masculino singular) en cada grupo?</span>"
   ]
  },
  {
   "cell_type": "code",
   "execution_count": null,
   "metadata": {},
   "outputs": [],
   "source": [
    "# Incluye aquí el código generado para poder responder a tu pregunta\n"
   ]
  },
  {
   "cell_type": "markdown",
   "metadata": {},
   "source": [
    "<b>Incluye aquí, debajo de la línea, la explicación de tu respuesta</b>\n",
    "<hr>\n",
    " "
   ]
  },
  {
   "cell_type": "markdown",
   "metadata": {},
   "source": [
    "<span style=\"font-size: 14pt; font-weight: bold; color: #0098cd;\">Pregunta 9.</span>\n",
    "<span style=\"font-size: 14pt; font-weight: bold; color: #0098cd;\">Considerando dos grupos de comentarios (odio y no odio), indica cuántas entidades de cada tipo posible se reconocen en cada uno de los grupos</span>"
   ]
  },
  {
   "cell_type": "code",
   "execution_count": null,
   "metadata": {},
   "outputs": [],
   "source": [
    "# Incluye aquí el código generado para poder responder a tu pregunta\n"
   ]
  },
  {
   "cell_type": "markdown",
   "metadata": {},
   "source": [
    "<b>Incluye aquí, debajo de la línea, la explicación de tu respuesta</b>\n",
    "<hr>\n",
    " "
   ]
  },
  {
   "cell_type": "markdown",
   "metadata": {},
   "source": [
    "<span style=\"font-size: 14pt; font-weight: bold; color: #0098cd;\">Pregunta 10.</span>\n",
    "<span style=\"font-size: 14pt; font-weight: bold; color: #0098cd;\">Considerando dos grupos de comentarios (odio y no odio), extrae y muestra los 100 lemas más repetidos en los comentarios de cada grupo</span>"
   ]
  },
  {
   "cell_type": "code",
   "execution_count": null,
   "metadata": {},
   "outputs": [],
   "source": [
    "# Incluye aquí el código generado para poder responder a tu pregunta\n"
   ]
  },
  {
   "cell_type": "markdown",
   "metadata": {},
   "source": [
    "<b>Incluye aquí, debajo de la línea, la explicación de tu respuesta</b>\n",
    "<hr>\n",
    " "
   ]
  },
  {
   "cell_type": "markdown",
   "metadata": {},
   "source": [
    "<span style=\"font-size: 14pt; font-weight: bold; color: #0098cd;\">Pregunta 11.</span>\n",
    "<span style=\"font-size: 14pt; font-weight: bold; color: #0098cd;\">¿Es posible utilizar alguna de las características extraídas en las preguntas anteriores para determinar si un mensaje contiene odio? Justifica tu respuesta con el análisis estadístico que consideres necesario.</span>"
   ]
  },
  {
   "cell_type": "code",
   "execution_count": null,
   "metadata": {},
   "outputs": [],
   "source": [
    "# Incluye aquí el código generado para poder responder a tu pregunta\n"
   ]
  },
  {
   "cell_type": "markdown",
   "metadata": {},
   "source": [
    "<b>Incluye aquí, debajo de la línea, la explicación de tu respuesta</b>\n",
    "<hr>\n",
    " "
   ]
  }
 ],
 "metadata": {
  "kernelspec": {
   "display_name": "Python 3",
   "language": "python",
   "name": "python3"
  },
  "language_info": {
   "codemirror_mode": {
    "name": "ipython",
    "version": 3
   },
   "file_extension": ".py",
   "mimetype": "text/x-python",
   "name": "python",
   "nbconvert_exporter": "python",
   "pygments_lexer": "ipython3",
   "version": "3.11.9"
  }
 },
 "nbformat": 4,
 "nbformat_minor": 4
}
