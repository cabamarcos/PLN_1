{
 "cells": [
  {
   "cell_type": "markdown",
   "metadata": {},
   "source": [
    "**Universidad Internacional de La Rioja (UNIR) - Máster Universitario en Inteligencia Artificial - Procesamiento del Lenguaje Natural** "
   ]
  },
  {
   "cell_type": "markdown",
   "metadata": {},
   "source": [
    "***\n",
    "Datos del alumno (Nombre y Apellidos):\n",
    "\n",
    "Fecha:\n",
    "***"
   ]
  },
  {
   "cell_type": "markdown",
   "metadata": {},
   "source": [
    "<span style=\"font-size: 20pt; font-weight: bold; color: #0098cd;\">Trabajo: Named-Entity Recognition</span>\n",
    "\n",
    "**Objetivos** \n",
    "\n",
    "Con esta actividad se tratará de que el alumno se familiarice con el manejo de la librería spacy, así como con los conceptos básicos de manejo de las técnicas NER\n",
    "\n",
    "**Descripción**\n",
    "\n",
    "En esta actividad debes procesar de forma automática un texto en lenguaje natural para detectar características básicas en el mismo, y para identificar y etiquetar las ocurrencias de conceptos como localización, moneda, empresas, etc.\n",
    "\n",
    "En la primera parte del ejercicio se proporciona un código fuente a través del cual se lee un archivo de texto y se realiza un preprocesado del mismo. En esta parte el alumno tan sólo debe ejecutar y entender el código proporcionado.\n",
    "\n",
    "En la segunda parte del ejercicio se plantean una serie de preguntas que deben ser respondidas por el alumno. Cada pregunta deberá responderse con un fragmento de código fuente que esté acompañado de la explicación correspondiente. Para elaborar el código solicitado, el alumno deberá visitar la documentación de la librería spacy, cuyos enlaces se proporcionarán donde corresponda."
   ]
  },
  {
   "cell_type": "markdown",
   "metadata": {},
   "source": [
    "# Parte 1: carga y preprocesamiento del texto a analizar"
   ]
  },
  {
   "cell_type": "markdown",
   "metadata": {},
   "source": [
    "Observa las diferentes librerías que se están importando."
   ]
  },
  {
   "cell_type": "code",
   "execution_count": 54,
   "metadata": {},
   "outputs": [],
   "source": [
    "import pathlib\n",
    "import spacy\n",
    "import pandas as pd\n",
    "from spacy import displacy\n",
    "import csv\n",
    "import es_core_news_md"
   ]
  },
  {
   "cell_type": "markdown",
   "metadata": {},
   "source": [
    "El siguiente código simplemente carga y preprocesa el texto. Para ello, lo primero que hace es cargar un modelo de lenguaje previamente entrenado. En este caso, se utiliza <i>es_core_news_md</i>: \n",
    "\n",
    "https://spacy.io/models/es#es_core_news_md\n"
   ]
  },
  {
   "cell_type": "code",
   "execution_count": 55,
   "metadata": {},
   "outputs": [],
   "source": [
    "nlp = es_core_news_md.load()"
   ]
  },
  {
   "cell_type": "markdown",
   "metadata": {},
   "source": [
    "El objeto <i>nlp</i> permite utilizar el modelo de lenguaje cargado, de forma que se puede procesar un texto y obtenerlo en su versión preprocesada. Así, nos permite realizar las diferentes tareas. En este caso, vamos a utilizar el pipeline para hacer un preprocesamiento básico, que consiste en tokenizar el texto."
   ]
  },
  {
   "cell_type": "code",
   "execution_count": 56,
   "metadata": {},
   "outputs": [],
   "source": [
    "filename = \"./comentariosOdio.csv\""
   ]
  },
  {
   "cell_type": "code",
   "execution_count": 57,
   "metadata": {},
   "outputs": [
    {
     "name": "stderr",
     "output_type": "stream",
     "text": [
      "C:\\Users\\ccmarc4\\AppData\\Local\\Temp\\ipykernel_10272\\916618882.py:2: DtypeWarning: Columns (5,6,7,8,9,10,11,12,13,14) have mixed types. Specify dtype option on import or set low_memory=False.\n",
      "  data = pd.read_csv(filename, delimiter=';', encoding='latin1')\n"
     ]
    }
   ],
   "source": [
    "\n",
    "lines_number = 20\n",
    "data = pd.read_csv(filename, delimiter=';', encoding='latin1')  \n",
    "#data = pd.read_csv(filename, delimiter=';',nrows=lines_number)  "
   ]
  },
  {
   "cell_type": "markdown",
   "metadata": {},
   "source": [
    "El código anterior carga el archivo CSV (opcionalmente con un límite de líneas a leer) y genera la variable <i>data</i>, que contiene un Dataframe (https://pandas.pydata.org/docs/reference/api/pandas.DataFrame.html) con los datos leídos del CSV."
   ]
  },
  {
   "cell_type": "markdown",
   "metadata": {},
   "source": [
    "Te vendrá bien conocer la siguiente documentación:\n",
    "<ul>\n",
    "    <li>https://spacy.io/api/doc</li>\n",
    "    <li>https://spacy.io/api/token</li>\n",
    "    <li>https://spacy.io/api/morphology#morphanalysis</li>\n",
    "</ul>"
   ]
  },
  {
   "cell_type": "markdown",
   "metadata": {},
   "source": [
    "### Playground\n",
    "\n",
    "Utiliza este espacio para hacer pruebas y ensayos con las variables generadas con el código previo. A modo de ejemplo, se ofrece código que realiza las siguientes tareas: \n",
    "\n",
    "\n",
    "- leer un número dado de líneas del Dataframe y generar dos listas con los valores (se pueden leer directamente del DataFrame, se muestra el ejemplo como una opción más)\n",
    "- procesar el texto de cada comentario\n",
    "\n",
    "\n",
    "Para procesarlo, hay utilizar el objeto <i>nlp</i> y así obtener objetos de la clase <i>Doc</i> (https://spacy.io/api/doc)\n",
    "\n",
    "Visita la documentación de dicha clase y experimenta probando las diferentes funciones y atributos "
   ]
  },
  {
   "cell_type": "code",
   "execution_count": 58,
   "metadata": {},
   "outputs": [],
   "source": [
    "# Puedes insertar aquí código de pruebas para experimentar con las diferentes funciones y atributos de 'doc'.\n",
    "#print(data[\"CONTENIDO A ANALIZAR\"][1])\n",
    "#print(data[\"INTENSIDAD\"][1])\n",
    "doc = []\n",
    "value = []\n",
    "\n",
    "#con el bucle, generamos sendas listas con los comentarios ya parseados y con el valor de intensidad\n",
    "for i in range(0, lines_number):#'''len(data[\"CONTENIDO A ANALIZAR\"])'''\n",
    "    \n",
    "    #en un primer paso se parsea el comentario. En el segundo paso se añade el objeto a la lista\n",
    "    tmp_doc = nlp(data[\"CONTENIDO A ANALIZAR\"][i])\n",
    "    doc.append(tmp_doc)\n",
    "    \n",
    "    #en un primer paso extrae el valor. En el segundo paso se añade el valor a la lista\n",
    "    tmp_value = data[\"INTENSIDAD\"][i]\n",
    "    value.append(tmp_value)\n",
    "\n",
    "\n",
    "# #ejemplo de cómo recorrer un comentario palabra por palabra    \n",
    "# for token in doc[1]:\n",
    "#     print(token)"
   ]
  },
  {
   "cell_type": "markdown",
   "metadata": {},
   "source": [
    "<span style=\"font-size: 14pt; font-weight: bold; color: #0098cd;\">Pregunta 1.</span>\n",
    "<span style=\"font-size: 14pt; font-weight: bold; color: #0098cd;\">¿Cuántos registros contiene el corpus?</span>"
   ]
  },
  {
   "cell_type": "markdown",
   "metadata": {},
   "source": [
    "He visto que hay varios problemas en el dataset:\n",
    "- Muchas filas en las que todos los valores son nulos menos 1, que es la continuación del contenido de la fila anterior. Para arreglar esto borraré las filas que solo contengan ese valor.\n",
    "- Hay varias columnas más de las que son en verdad. Esto se debe a que hay direcciones, nombres y demás mal tabulados. Borraré todas las columnas que no tengan un nombre definido, ya que estas columnas en realidad no tienen nombre."
   ]
  },
  {
   "cell_type": "code",
   "execution_count": 59,
   "metadata": {},
   "outputs": [
    {
     "name": "stdout",
     "output_type": "stream",
     "text": [
      "Fila con datos en columna excedente (Unnamed: 9):\n",
      "MEDIO                                                           alcoi, 66\n",
      "SOPORTE                                                    en mislata, 62\n",
      "URL                                                           en elda, 61\n",
      "TIPO DE MENSAJE                                              en xàbia, 59\n",
      "CONTENIDO A ANALIZAR                                      el campello, 53\n",
      "INTENSIDAD                                             la vila joiosa, 52\n",
      "TIPO DE ODIO                                     burjassot y l'eliana, 51\n",
      "TONO HUMORISTICO                                              godella, 49\n",
      "MODIFICADOR                                                   manises, 48\n",
      "Unnamed: 9                                                    alfafar, 47\n",
      "Unnamed: 10                                                     puçol, 46\n",
      "Unnamed: 11                                                benicàssim, 45\n",
      "Unnamed: 12                               benicarló, petrer y vinaròs, 44\n",
      "Unnamed: 13                                           algemesí y calp, 43\n",
      "Unnamed: 14              aldaia, la pobla de vallbona, 42 y borriana y...\n",
      "Unnamed: 15                                                           0.0\n",
      "Name: 122844, dtype: object\n",
      "----------------------------------------\n",
      "Fila con datos en columna excedente (Unnamed: 9):\n",
      "MEDIO                                                           alcoi, 66\n",
      "SOPORTE                                                    en mislata, 62\n",
      "URL                                                           en elda, 61\n",
      "TIPO DE MENSAJE                                              en xàbia, 59\n",
      "CONTENIDO A ANALIZAR                                      el campello, 53\n",
      "INTENSIDAD                                             la vila joiosa, 52\n",
      "TIPO DE ODIO                                     burjassot y l'eliana, 51\n",
      "TONO HUMORISTICO                                              godella, 49\n",
      "MODIFICADOR                                                   manises, 48\n",
      "Unnamed: 9                                                    alfafar, 47\n",
      "Unnamed: 10                                                     puçol, 46\n",
      "Unnamed: 11                                                benicàssim, 45\n",
      "Unnamed: 12                               benicarló, petrer y vinaròs, 44\n",
      "Unnamed: 13                                           algemesí y calp, 43\n",
      "Unnamed: 14              aldaia, la pobla de vallbona, 42 y borriana y...\n",
      "Unnamed: 15                                                           0.0\n",
      "Name: 122880, dtype: object\n",
      "----------------------------------------\n",
      "Fila con datos en columna excedente (Unnamed: 9):\n",
      "MEDIO                   ad del cliente, se negó a responder preguntas ...\n",
      "SOPORTE                                               le monde de francia\n",
      "URL                                               malaysiakjni de malasia\n",
      "TIPO DE MENSAJE                                   stand news de hong kong\n",
      "CONTENIDO A ANALIZAR                            occrp e istories en rusia\n",
      "INTENSIDAD                                      tanya kozyreva en ucrania\n",
      "TIPO DE ODIO             australian broadcasting corp. y australian fi...\n",
      "TONO HUMORISTICO                              karlijn kuijpers en holanda\n",
      "MODIFICADOR                          the guardian y la bbc en reino unido\n",
      "Unnamed: 9               the washington post, the miami herald y the w...\n",
      "Unnamed: 10                                                           0.0\n",
      "Unnamed: 11                                                           NaN\n",
      "Unnamed: 12                                                           NaN\n",
      "Unnamed: 13                                                           NaN\n",
      "Unnamed: 14                                                           NaN\n",
      "Unnamed: 15                                                           NaN\n",
      "Name: 504362, dtype: object\n",
      "----------------------------------------\n",
      "Fila con datos en columna excedente (Unnamed: 10):\n",
      "MEDIO                                                           alcoi, 66\n",
      "SOPORTE                                                    en mislata, 62\n",
      "URL                                                           en elda, 61\n",
      "TIPO DE MENSAJE                                              en xàbia, 59\n",
      "CONTENIDO A ANALIZAR                                      el campello, 53\n",
      "INTENSIDAD                                             la vila joiosa, 52\n",
      "TIPO DE ODIO                                     burjassot y l'eliana, 51\n",
      "TONO HUMORISTICO                                              godella, 49\n",
      "MODIFICADOR                                                   manises, 48\n",
      "Unnamed: 9                                                    alfafar, 47\n",
      "Unnamed: 10                                                     puçol, 46\n",
      "Unnamed: 11                                                benicàssim, 45\n",
      "Unnamed: 12                               benicarló, petrer y vinaròs, 44\n",
      "Unnamed: 13                                           algemesí y calp, 43\n",
      "Unnamed: 14              aldaia, la pobla de vallbona, 42 y borriana y...\n",
      "Unnamed: 15                                                           0.0\n",
      "Name: 122844, dtype: object\n",
      "----------------------------------------\n",
      "Fila con datos en columna excedente (Unnamed: 10):\n",
      "MEDIO                                                           alcoi, 66\n",
      "SOPORTE                                                    en mislata, 62\n",
      "URL                                                           en elda, 61\n",
      "TIPO DE MENSAJE                                              en xàbia, 59\n",
      "CONTENIDO A ANALIZAR                                      el campello, 53\n",
      "INTENSIDAD                                             la vila joiosa, 52\n",
      "TIPO DE ODIO                                     burjassot y l'eliana, 51\n",
      "TONO HUMORISTICO                                              godella, 49\n",
      "MODIFICADOR                                                   manises, 48\n",
      "Unnamed: 9                                                    alfafar, 47\n",
      "Unnamed: 10                                                     puçol, 46\n",
      "Unnamed: 11                                                benicàssim, 45\n",
      "Unnamed: 12                               benicarló, petrer y vinaròs, 44\n",
      "Unnamed: 13                                           algemesí y calp, 43\n",
      "Unnamed: 14              aldaia, la pobla de vallbona, 42 y borriana y...\n",
      "Unnamed: 15                                                           0.0\n",
      "Name: 122880, dtype: object\n",
      "----------------------------------------\n",
      "Fila con datos en columna excedente (Unnamed: 10):\n",
      "MEDIO                   ad del cliente, se negó a responder preguntas ...\n",
      "SOPORTE                                               le monde de francia\n",
      "URL                                               malaysiakjni de malasia\n",
      "TIPO DE MENSAJE                                   stand news de hong kong\n",
      "CONTENIDO A ANALIZAR                            occrp e istories en rusia\n",
      "INTENSIDAD                                      tanya kozyreva en ucrania\n",
      "TIPO DE ODIO             australian broadcasting corp. y australian fi...\n",
      "TONO HUMORISTICO                              karlijn kuijpers en holanda\n",
      "MODIFICADOR                          the guardian y la bbc en reino unido\n",
      "Unnamed: 9               the washington post, the miami herald y the w...\n",
      "Unnamed: 10                                                           0.0\n",
      "Unnamed: 11                                                           NaN\n",
      "Unnamed: 12                                                           NaN\n",
      "Unnamed: 13                                                           NaN\n",
      "Unnamed: 14                                                           NaN\n",
      "Unnamed: 15                                                           NaN\n",
      "Name: 504362, dtype: object\n",
      "----------------------------------------\n",
      "Fila con datos en columna excedente (Unnamed: 11):\n",
      "MEDIO                                                           alcoi, 66\n",
      "SOPORTE                                                    en mislata, 62\n",
      "URL                                                           en elda, 61\n",
      "TIPO DE MENSAJE                                              en xàbia, 59\n",
      "CONTENIDO A ANALIZAR                                      el campello, 53\n",
      "INTENSIDAD                                             la vila joiosa, 52\n",
      "TIPO DE ODIO                                     burjassot y l'eliana, 51\n",
      "TONO HUMORISTICO                                              godella, 49\n",
      "MODIFICADOR                                                   manises, 48\n",
      "Unnamed: 9                                                    alfafar, 47\n",
      "Unnamed: 10                                                     puçol, 46\n",
      "Unnamed: 11                                                benicàssim, 45\n",
      "Unnamed: 12                               benicarló, petrer y vinaròs, 44\n",
      "Unnamed: 13                                           algemesí y calp, 43\n",
      "Unnamed: 14              aldaia, la pobla de vallbona, 42 y borriana y...\n",
      "Unnamed: 15                                                           0.0\n",
      "Name: 122844, dtype: object\n",
      "----------------------------------------\n",
      "Fila con datos en columna excedente (Unnamed: 11):\n",
      "MEDIO                                                           alcoi, 66\n",
      "SOPORTE                                                    en mislata, 62\n",
      "URL                                                           en elda, 61\n",
      "TIPO DE MENSAJE                                              en xàbia, 59\n",
      "CONTENIDO A ANALIZAR                                      el campello, 53\n",
      "INTENSIDAD                                             la vila joiosa, 52\n",
      "TIPO DE ODIO                                     burjassot y l'eliana, 51\n",
      "TONO HUMORISTICO                                              godella, 49\n",
      "MODIFICADOR                                                   manises, 48\n",
      "Unnamed: 9                                                    alfafar, 47\n",
      "Unnamed: 10                                                     puçol, 46\n",
      "Unnamed: 11                                                benicàssim, 45\n",
      "Unnamed: 12                               benicarló, petrer y vinaròs, 44\n",
      "Unnamed: 13                                           algemesí y calp, 43\n",
      "Unnamed: 14              aldaia, la pobla de vallbona, 42 y borriana y...\n",
      "Unnamed: 15                                                           0.0\n",
      "Name: 122880, dtype: object\n",
      "----------------------------------------\n",
      "Fila con datos en columna excedente (Unnamed: 12):\n",
      "MEDIO                                                           alcoi, 66\n",
      "SOPORTE                                                    en mislata, 62\n",
      "URL                                                           en elda, 61\n",
      "TIPO DE MENSAJE                                              en xàbia, 59\n",
      "CONTENIDO A ANALIZAR                                      el campello, 53\n",
      "INTENSIDAD                                             la vila joiosa, 52\n",
      "TIPO DE ODIO                                     burjassot y l'eliana, 51\n",
      "TONO HUMORISTICO                                              godella, 49\n",
      "MODIFICADOR                                                   manises, 48\n",
      "Unnamed: 9                                                    alfafar, 47\n",
      "Unnamed: 10                                                     puçol, 46\n",
      "Unnamed: 11                                                benicàssim, 45\n",
      "Unnamed: 12                               benicarló, petrer y vinaròs, 44\n",
      "Unnamed: 13                                           algemesí y calp, 43\n",
      "Unnamed: 14              aldaia, la pobla de vallbona, 42 y borriana y...\n",
      "Unnamed: 15                                                           0.0\n",
      "Name: 122844, dtype: object\n",
      "----------------------------------------\n",
      "Fila con datos en columna excedente (Unnamed: 12):\n",
      "MEDIO                                                           alcoi, 66\n",
      "SOPORTE                                                    en mislata, 62\n",
      "URL                                                           en elda, 61\n",
      "TIPO DE MENSAJE                                              en xàbia, 59\n",
      "CONTENIDO A ANALIZAR                                      el campello, 53\n",
      "INTENSIDAD                                             la vila joiosa, 52\n",
      "TIPO DE ODIO                                     burjassot y l'eliana, 51\n",
      "TONO HUMORISTICO                                              godella, 49\n",
      "MODIFICADOR                                                   manises, 48\n",
      "Unnamed: 9                                                    alfafar, 47\n",
      "Unnamed: 10                                                     puçol, 46\n",
      "Unnamed: 11                                                benicàssim, 45\n",
      "Unnamed: 12                               benicarló, petrer y vinaròs, 44\n",
      "Unnamed: 13                                           algemesí y calp, 43\n",
      "Unnamed: 14              aldaia, la pobla de vallbona, 42 y borriana y...\n",
      "Unnamed: 15                                                           0.0\n",
      "Name: 122880, dtype: object\n",
      "----------------------------------------\n",
      "Fila con datos en columna excedente (Unnamed: 13):\n",
      "MEDIO                                                           alcoi, 66\n",
      "SOPORTE                                                    en mislata, 62\n",
      "URL                                                           en elda, 61\n",
      "TIPO DE MENSAJE                                              en xàbia, 59\n",
      "CONTENIDO A ANALIZAR                                      el campello, 53\n",
      "INTENSIDAD                                             la vila joiosa, 52\n",
      "TIPO DE ODIO                                     burjassot y l'eliana, 51\n",
      "TONO HUMORISTICO                                              godella, 49\n",
      "MODIFICADOR                                                   manises, 48\n",
      "Unnamed: 9                                                    alfafar, 47\n",
      "Unnamed: 10                                                     puçol, 46\n",
      "Unnamed: 11                                                benicàssim, 45\n",
      "Unnamed: 12                               benicarló, petrer y vinaròs, 44\n",
      "Unnamed: 13                                           algemesí y calp, 43\n",
      "Unnamed: 14              aldaia, la pobla de vallbona, 42 y borriana y...\n",
      "Unnamed: 15                                                           0.0\n",
      "Name: 122844, dtype: object\n",
      "----------------------------------------\n",
      "Fila con datos en columna excedente (Unnamed: 13):\n",
      "MEDIO                                                           alcoi, 66\n",
      "SOPORTE                                                    en mislata, 62\n",
      "URL                                                           en elda, 61\n",
      "TIPO DE MENSAJE                                              en xàbia, 59\n",
      "CONTENIDO A ANALIZAR                                      el campello, 53\n",
      "INTENSIDAD                                             la vila joiosa, 52\n",
      "TIPO DE ODIO                                     burjassot y l'eliana, 51\n",
      "TONO HUMORISTICO                                              godella, 49\n",
      "MODIFICADOR                                                   manises, 48\n",
      "Unnamed: 9                                                    alfafar, 47\n",
      "Unnamed: 10                                                     puçol, 46\n",
      "Unnamed: 11                                                benicàssim, 45\n",
      "Unnamed: 12                               benicarló, petrer y vinaròs, 44\n",
      "Unnamed: 13                                           algemesí y calp, 43\n",
      "Unnamed: 14              aldaia, la pobla de vallbona, 42 y borriana y...\n",
      "Unnamed: 15                                                           0.0\n",
      "Name: 122880, dtype: object\n",
      "----------------------------------------\n",
      "Fila con datos en columna excedente (Unnamed: 14):\n",
      "MEDIO                                                           alcoi, 66\n",
      "SOPORTE                                                    en mislata, 62\n",
      "URL                                                           en elda, 61\n",
      "TIPO DE MENSAJE                                              en xàbia, 59\n",
      "CONTENIDO A ANALIZAR                                      el campello, 53\n",
      "INTENSIDAD                                             la vila joiosa, 52\n",
      "TIPO DE ODIO                                     burjassot y l'eliana, 51\n",
      "TONO HUMORISTICO                                              godella, 49\n",
      "MODIFICADOR                                                   manises, 48\n",
      "Unnamed: 9                                                    alfafar, 47\n",
      "Unnamed: 10                                                     puçol, 46\n",
      "Unnamed: 11                                                benicàssim, 45\n",
      "Unnamed: 12                               benicarló, petrer y vinaròs, 44\n",
      "Unnamed: 13                                           algemesí y calp, 43\n",
      "Unnamed: 14              aldaia, la pobla de vallbona, 42 y borriana y...\n",
      "Unnamed: 15                                                           0.0\n",
      "Name: 122844, dtype: object\n",
      "----------------------------------------\n",
      "Fila con datos en columna excedente (Unnamed: 14):\n",
      "MEDIO                                                           alcoi, 66\n",
      "SOPORTE                                                    en mislata, 62\n",
      "URL                                                           en elda, 61\n",
      "TIPO DE MENSAJE                                              en xàbia, 59\n",
      "CONTENIDO A ANALIZAR                                      el campello, 53\n",
      "INTENSIDAD                                             la vila joiosa, 52\n",
      "TIPO DE ODIO                                     burjassot y l'eliana, 51\n",
      "TONO HUMORISTICO                                              godella, 49\n",
      "MODIFICADOR                                                   manises, 48\n",
      "Unnamed: 9                                                    alfafar, 47\n",
      "Unnamed: 10                                                     puçol, 46\n",
      "Unnamed: 11                                                benicàssim, 45\n",
      "Unnamed: 12                               benicarló, petrer y vinaròs, 44\n",
      "Unnamed: 13                                           algemesí y calp, 43\n",
      "Unnamed: 14              aldaia, la pobla de vallbona, 42 y borriana y...\n",
      "Unnamed: 15                                                           0.0\n",
      "Name: 122880, dtype: object\n",
      "----------------------------------------\n",
      "Fila con datos en columna excedente (Unnamed: 15):\n",
      "MEDIO                                                           alcoi, 66\n",
      "SOPORTE                                                    en mislata, 62\n",
      "URL                                                           en elda, 61\n",
      "TIPO DE MENSAJE                                              en xàbia, 59\n",
      "CONTENIDO A ANALIZAR                                      el campello, 53\n",
      "INTENSIDAD                                             la vila joiosa, 52\n",
      "TIPO DE ODIO                                     burjassot y l'eliana, 51\n",
      "TONO HUMORISTICO                                              godella, 49\n",
      "MODIFICADOR                                                   manises, 48\n",
      "Unnamed: 9                                                    alfafar, 47\n",
      "Unnamed: 10                                                     puçol, 46\n",
      "Unnamed: 11                                                benicàssim, 45\n",
      "Unnamed: 12                               benicarló, petrer y vinaròs, 44\n",
      "Unnamed: 13                                           algemesí y calp, 43\n",
      "Unnamed: 14              aldaia, la pobla de vallbona, 42 y borriana y...\n",
      "Unnamed: 15                                                           0.0\n",
      "Name: 122844, dtype: object\n",
      "----------------------------------------\n",
      "Fila con datos en columna excedente (Unnamed: 15):\n",
      "MEDIO                                                           alcoi, 66\n",
      "SOPORTE                                                    en mislata, 62\n",
      "URL                                                           en elda, 61\n",
      "TIPO DE MENSAJE                                              en xàbia, 59\n",
      "CONTENIDO A ANALIZAR                                      el campello, 53\n",
      "INTENSIDAD                                             la vila joiosa, 52\n",
      "TIPO DE ODIO                                     burjassot y l'eliana, 51\n",
      "TONO HUMORISTICO                                              godella, 49\n",
      "MODIFICADOR                                                   manises, 48\n",
      "Unnamed: 9                                                    alfafar, 47\n",
      "Unnamed: 10                                                     puçol, 46\n",
      "Unnamed: 11                                                benicàssim, 45\n",
      "Unnamed: 12                               benicarló, petrer y vinaròs, 44\n",
      "Unnamed: 13                                           algemesí y calp, 43\n",
      "Unnamed: 14              aldaia, la pobla de vallbona, 42 y borriana y...\n",
      "Unnamed: 15                                                           0.0\n",
      "Name: 122880, dtype: object\n",
      "----------------------------------------\n",
      "Columnas eliminadas: 7\n",
      "Filas afectadas por columnas eliminadas: 16\n"
     ]
    }
   ],
   "source": [
    "import pandas as pd\n",
    "\n",
    "# Configura el nombre de tu archivo CSV original y el de salida\n",
    "input_file = \"comentariosOdio.csv\"\n",
    "output_file = \"comentariosOdioLimpio.csv\"\n",
    "\n",
    "# Lee el archivo con utf-8 y evita errores de codificación\n",
    "try:\n",
    "    with open(input_file, encoding='utf-8', errors='replace') as file:\n",
    "        df = pd.read_csv(file, delimiter=';', engine='python')\n",
    "except Exception as e:\n",
    "    print(f\"Error al leer el archivo: {e}\")\n",
    "    exit()\n",
    "\n",
    "# Guarda el número de columnas base (número de columnas en la primera fila)\n",
    "num_columnas_base = 9\n",
    "\n",
    "# Encuentra columnas con índice mayor al número de columnas base\n",
    "exceso_columnas = df.columns[num_columnas_base:]\n",
    "\n",
    "# Lista para almacenar las filas con datos en columnas excedentes\n",
    "filas_con_datos_excedentes = []\n",
    "\n",
    "# Verifica si alguna de las columnas excedentes tiene datos\n",
    "for col in exceso_columnas:\n",
    "    if df[col].notnull().any():\n",
    "        # Obtén las filas donde esta columna tiene datos\n",
    "        filas_con_datos = df[df[col].notnull()]\n",
    "        filas_con_datos_excedentes.append(filas_con_datos)\n",
    "        # Imprime cada fila que tiene datos en una columna excedente\n",
    "        for idx, fila in filas_con_datos.iterrows():\n",
    "            print(f\"Fila con datos en columna excedente ({col}):\")\n",
    "            print(fila)\n",
    "            print(\"-\" * 40)\n",
    "\n",
    "# Elimina las columnas excedentes del DataFrame\n",
    "df = df.iloc[:, :num_columnas_base]\n",
    "\n",
    "# Imprime un resumen\n",
    "print(f\"Columnas eliminadas: {len(exceso_columnas)}\")\n",
    "print(f\"Filas afectadas por columnas eliminadas: {sum([len(f) for f in filas_con_datos_excedentes])}\")"
   ]
  },
  {
   "cell_type": "code",
   "execution_count": 60,
   "metadata": {},
   "outputs": [],
   "source": [
    "#limpiar el df quitando todas las columnas menos CONTENIDO A ANALIZAR e INTENSIDAD\n",
    "df = df[[\"CONTENIDO A ANALIZAR\", \"INTENSIDAD\"]]"
   ]
  },
  {
   "cell_type": "code",
   "execution_count": 61,
   "metadata": {},
   "outputs": [
    {
     "name": "stdout",
     "output_type": "stream",
     "text": [
      "Filas en el DataFrame: 485712\n"
     ]
    }
   ],
   "source": [
    "# Si la fila es nula o duplicada, eliminar\n",
    "df = df.dropna()\n",
    "df = df.drop_duplicates()\n",
    "\n",
    "# contar cuantas filas tiene el df\n",
    "print(f\"Filas en el DataFrame: {len(df)}\")"
   ]
  },
  {
   "cell_type": "code",
   "execution_count": 62,
   "metadata": {},
   "outputs": [
    {
     "name": "stdout",
     "output_type": "stream",
     "text": [
      "Archivo limpio guardado como 'comentariosOdioLimpio.csv'\n"
     ]
    }
   ],
   "source": [
    "# Guarda el archivo limpio\n",
    "try:\n",
    "    df.to_csv(output_file, sep=';', index=False, encoding='utf-8')\n",
    "    print(f\"Archivo limpio guardado como '{output_file}'\")\n",
    "except Exception as e:\n",
    "    print(f\"Error al guardar el archivo: {e}\")"
   ]
  },
  {
   "cell_type": "code",
   "execution_count": 63,
   "metadata": {},
   "outputs": [
    {
     "name": "stdout",
     "output_type": "stream",
     "text": [
      "Columnas con valores nulos: Empty DataFrame\n",
      "Columns: [CONTENIDO A ANALIZAR, INTENSIDAD]\n",
      "Index: []\n",
      "Filas duplicadas: 0\n"
     ]
    }
   ],
   "source": [
    "# Buscar filas nulas o repetidas\n",
    "\n",
    "# Crea una lista de filas con valores nulos\n",
    "filas_nulas = df[df.isnull().any(axis=1)]\n",
    "\n",
    "# Crea una lista de filas duplicadas\n",
    "filas_duplicadas = df[df.duplicated()]\n",
    "\n",
    "# Imprime un resumen\n",
    "print(f\"Columnas con valores nulos: {filas_nulas}\")\n",
    "print(f\"Filas duplicadas: {len(filas_duplicadas)}\")"
   ]
  },
  {
   "cell_type": "markdown",
   "metadata": {},
   "source": [
    "<b>Incluye aquí, debajo de la línea, la explicación de tu respuesta</b>\n",
    "<hr>\n",
    "\n",
    "Después de limpiar el dataset de columnas innecesarias, filas nulas y valores duplicados, el dataset contiene 485712 registros si miramos el número de filas del CSV"
   ]
  },
  {
   "cell_type": "markdown",
   "metadata": {},
   "source": [
    "<span style=\"font-size: 14pt; font-weight: bold; color: #0098cd;\">Pregunta 2.</span>\n",
    "<span style=\"font-size: 14pt; font-weight: bold; color: #0098cd;\">¿Cuántas palabras totales hay en los comentarios del corpus?</span>"
   ]
  },
  {
   "cell_type": "code",
   "execution_count": 64,
   "metadata": {},
   "outputs": [
    {
     "name": "stdout",
     "output_type": "stream",
     "text": [
      "Número total de palabras en el corpus: 60518520\n"
     ]
    }
   ],
   "source": [
    "data = pd.read_csv(\"comentariosOdioLimpio.csv\", delimiter=';', encoding= 'utf-8')\n",
    "\n",
    "if \"CONTENIDO A ANALIZAR\" in data.columns:\n",
    "    # Combinar todos los comentarios de la columna en un solo texto\n",
    "    texto_completo = \" \".join(data[\"CONTENIDO A ANALIZAR\"].astype(str))\n",
    "\n",
    "    # Contar las palabras\n",
    "    numero_palabras = len(texto_completo.split())\n",
    "\n",
    "    print(f\"Número total de palabras en el corpus: {numero_palabras}\")\n",
    "else:\n",
    "    print(\"La columna 'CONTENIDO A ANALIZAR' no existe en el dataset.\")"
   ]
  },
  {
   "cell_type": "markdown",
   "metadata": {},
   "source": [
    "<b>Incluye aquí, debajo de la línea, la explicación de tu respuesta</b>\n",
    "<hr>\n",
    "\n",
    "Después de eliminar las columnas repetidas, nulas y las columnas que no son relevantes, si revisamos el contenido de la columna de comentarios llamada \"CONTENIDO A ANALIZAR\", podemos observar que el corpus contiene un total de 60518520 palabras.\n"
   ]
  },
  {
   "cell_type": "markdown",
   "metadata": {},
   "source": [
    "<span style=\"font-size: 14pt; font-weight: bold; color: #0098cd;\">Pregunta 3.</span>\n",
    "<span style=\"font-size: 14pt; font-weight: bold; color: #0098cd;\">¿Cuál el número promedio de palabras en cada comentario?</span>"
   ]
  },
  {
   "cell_type": "code",
   "execution_count": 65,
   "metadata": {},
   "outputs": [],
   "source": [
    "def contar_palabras(texto):\n",
    "    if isinstance(texto, str):\n",
    "        return len(texto.split())\n",
    "    return 0"
   ]
  },
  {
   "cell_type": "code",
   "execution_count": 66,
   "metadata": {},
   "outputs": [
    {
     "name": "stdout",
     "output_type": "stream",
     "text": [
      "Número promedio de palabras por comentario: 124.5975392825378\n",
      "\n",
      "Estadísticas adicionales:\n",
      "count    485712.000000\n",
      "mean        124.597539\n",
      "std         272.501166\n",
      "min           0.000000\n",
      "25%          10.000000\n",
      "50%          19.000000\n",
      "75%          59.000000\n",
      "max        5341.000000\n",
      "Name: num_palabras, dtype: float64\n"
     ]
    }
   ],
   "source": [
    "columna = \"CONTENIDO A ANALIZAR\"\n",
    "if columna in data.columns:\n",
    "\n",
    "    comentarios = data[columna]\n",
    "    \n",
    "    # Aplicamos la función a cada comentario\n",
    "    data[\"num_palabras\"] = comentarios.apply(contar_palabras)\n",
    "    \n",
    "    # Calcular el promedio de palabras por comentario\n",
    "    promedio = data[\"num_palabras\"].mean()\n",
    "    \n",
    "    print(f\"Número promedio de palabras por comentario: {promedio}\")\n",
    "    \n",
    "    print(\"\\nEstadísticas adicionales:\")\n",
    "    print(data[\"num_palabras\"].describe())\n",
    "else:\n",
    "    print(f\"La columna '{columna}' no existe en el dataset.\")"
   ]
  },
  {
   "cell_type": "markdown",
   "metadata": {},
   "source": [
    "<b>Incluye aquí, debajo de la línea, la explicación de tu respuesta</b>\n",
    "<hr>\n",
    "\n",
    "El número medio de palabras por comentario es de aproximadamente  124.6. "
   ]
  },
  {
   "cell_type": "markdown",
   "metadata": {},
   "source": [
    "<span style=\"font-size: 14pt; font-weight: bold; color: #0098cd;\">Pregunta 4.</span>\n",
    "<span style=\"font-size: 14pt; font-weight: bold; color: #0098cd;\">Considerando dos grupos de comentarios (odio y no odio) ¿Cuál el número promedio de palabras en los comentarios de cada grupo?</span>"
   ]
  },
  {
   "cell_type": "code",
   "execution_count": 67,
   "metadata": {},
   "outputs": [
    {
     "name": "stdout",
     "output_type": "stream",
     "text": [
      "0     3.0\n",
      "1     0.0\n",
      "2     3.0\n",
      "3     3.0\n",
      "4     3.0\n",
      "5     3.0\n",
      "6     4.0\n",
      "7     3.0\n",
      "8     4.0\n",
      "9     3.0\n",
      "10    3.0\n",
      "11    4.0\n",
      "12    0.0\n",
      "13    4.0\n",
      "14    4.0\n",
      "15    3.0\n",
      "16    0.0\n",
      "17    3.0\n",
      "18    0.0\n",
      "19    0.0\n",
      "Name: INTENSIDAD, dtype: object\n",
      "object\n",
      "float64\n"
     ]
    }
   ],
   "source": [
    "#implrimir 20 valores de la comlumna INTENSIDAD y su type\n",
    "print(data[\"INTENSIDAD\"].head(20))\n",
    "print(data[\"INTENSIDAD\"].dtype)\n",
    "\n",
    "# Convertir la columna INTENSIDAD a tipo numérico\n",
    "data[\"INTENSIDAD\"] = pd.to_numeric(data[\"INTENSIDAD\"], errors='coerce')\n",
    "\n",
    "# Verificar si la conversión fue exitosa\n",
    "print(data[\"INTENSIDAD\"].dtype)"
   ]
  },
  {
   "cell_type": "code",
   "execution_count": 68,
   "metadata": {},
   "outputs": [
    {
     "name": "stdout",
     "output_type": "stream",
     "text": [
      "Número promedio de palabras por comentario (sin odio): 127.16041126120524\n",
      "Número promedio de palabras por comentario (con odio): 16.69876630868909\n"
     ]
    }
   ],
   "source": [
    "# media de palabras por comentario si intensidad == 0 y para intensidad >0\n",
    "\n",
    "# Filtrar comentarios con intensidad 0\n",
    "comentarios_no_odio = data[data[\"INTENSIDAD\"] == 0]\n",
    "\n",
    "# Filtrar comentarios con intensidad mayor a 0\n",
    "comentarios_odio = data[data[\"INTENSIDAD\"] > 0]\n",
    "\n",
    "# Calcular el promedio de palabras por comentario\n",
    "promedio_no_odio = comentarios_no_odio[\"num_palabras\"].mean()\n",
    "promedio_odio = comentarios_odio[\"num_palabras\"].mean()\n",
    "\n",
    "print(f\"Número promedio de palabras por comentario (sin odio): {promedio_no_odio}\")\n",
    "print(f\"Número promedio de palabras por comentario (con odio): {promedio_odio}\")\n"
   ]
  },
  {
   "cell_type": "code",
   "execution_count": 69,
   "metadata": {},
   "outputs": [],
   "source": [
    "#borrar columna\n",
    "data = data.drop(columns=[\"num_palabras\"])"
   ]
  },
  {
   "cell_type": "markdown",
   "metadata": {},
   "source": [
    "<b>Incluye aquí, debajo de la línea, la explicación de tu respuesta</b>\n",
    "<hr>\n",
    " \n",
    "Si filtramos los datos de filas donde no se dice si hay odio y en las que si hay odio y luego hacemos la media, podemos ver que la media de palabras en comentarios de odio es de 16.69. \n",
    "\n",
    "Mientras que la media de palabras en comentarios que no son de odio es de 127.16."
   ]
  },
  {
   "cell_type": "markdown",
   "metadata": {},
   "source": [
    "<span style=\"font-size: 14pt; font-weight: bold; color: #0098cd;\">Pregunta 5.</span>\n",
    "<span style=\"font-size: 14pt; font-weight: bold; color: #0098cd;\">Considerando dos grupos de comentarios (odio y no odio) ¿Cuál es el número promedio de oraciones en los comentarios de cada grupo?</span>"
   ]
  },
  {
   "cell_type": "code",
   "execution_count": 70,
   "metadata": {},
   "outputs": [],
   "source": [
    "def contar_oraciones(texto):\n",
    "    if isinstance(texto, str):\n",
    "        # Dividir por \".\", \"?\" o \"!\" y eliminar vacíos\n",
    "        return len([oracion.strip() for oracion in texto.split('.') if oracion.strip()])\n",
    "    return 0"
   ]
  },
  {
   "cell_type": "code",
   "execution_count": 71,
   "metadata": {},
   "outputs": [
    {
     "name": "stdout",
     "output_type": "stream",
     "text": [
      "Número promedio de oraciones por comentario (sin odio): 5.864360945361192\n",
      "Número promedio de oraciones por comentario (con odio): 1.6069938759208307\n"
     ]
    },
    {
     "name": "stderr",
     "output_type": "stream",
     "text": [
      "C:\\Users\\ccmarc4\\AppData\\Local\\Temp\\ipykernel_10272\\1189685917.py:10: SettingWithCopyWarning: \n",
      "A value is trying to be set on a copy of a slice from a DataFrame.\n",
      "Try using .loc[row_indexer,col_indexer] = value instead\n",
      "\n",
      "See the caveats in the documentation: https://pandas.pydata.org/pandas-docs/stable/user_guide/indexing.html#returning-a-view-versus-a-copy\n",
      "  comentarios_no_odio[\"num_oraciones\"] = comentarios_no_odio[\"CONTENIDO A ANALIZAR\"].apply(contar_oraciones)\n",
      "C:\\Users\\ccmarc4\\AppData\\Local\\Temp\\ipykernel_10272\\1189685917.py:11: SettingWithCopyWarning: \n",
      "A value is trying to be set on a copy of a slice from a DataFrame.\n",
      "Try using .loc[row_indexer,col_indexer] = value instead\n",
      "\n",
      "See the caveats in the documentation: https://pandas.pydata.org/pandas-docs/stable/user_guide/indexing.html#returning-a-view-versus-a-copy\n",
      "  comentarios_odio[\"num_oraciones\"] = comentarios_odio[\"CONTENIDO A ANALIZAR\"].apply(contar_oraciones)\n"
     ]
    }
   ],
   "source": [
    "# contar nº de oraciones en cada comentario de odio o no odio\n",
    "\n",
    "# Filtrar comentarios con intensidad 0\n",
    "comentarios_no_odio = data[data[\"INTENSIDAD\"] == 0]\n",
    "\n",
    "# Filtrar comentarios con intensidad mayor a 0\n",
    "comentarios_odio = data[data[\"INTENSIDAD\"] > 0]\n",
    "\n",
    "# Aplicar la función a cada comentario\n",
    "comentarios_no_odio[\"num_oraciones\"] = comentarios_no_odio[\"CONTENIDO A ANALIZAR\"].apply(contar_oraciones)\n",
    "comentarios_odio[\"num_oraciones\"] = comentarios_odio[\"CONTENIDO A ANALIZAR\"].apply(contar_oraciones)\n",
    "\n",
    "# Calcular el promedio de oraciones por comentario\n",
    "promedio_no_odio = comentarios_no_odio[\"num_oraciones\"].mean()\n",
    "promedio_odio = comentarios_odio[\"num_oraciones\"].mean()\n",
    "\n",
    "print(f\"Número promedio de oraciones por comentario (sin odio): {promedio_no_odio}\")\n",
    "print(f\"Número promedio de oraciones por comentario (con odio): {promedio_odio}\")"
   ]
  },
  {
   "cell_type": "code",
   "execution_count": 72,
   "metadata": {},
   "outputs": [
    {
     "data": {
      "text/html": [
       "<div>\n",
       "<style scoped>\n",
       "    .dataframe tbody tr th:only-of-type {\n",
       "        vertical-align: middle;\n",
       "    }\n",
       "\n",
       "    .dataframe tbody tr th {\n",
       "        vertical-align: top;\n",
       "    }\n",
       "\n",
       "    .dataframe thead th {\n",
       "        text-align: right;\n",
       "    }\n",
       "</style>\n",
       "<table border=\"1\" class=\"dataframe\">\n",
       "  <thead>\n",
       "    <tr style=\"text-align: right;\">\n",
       "      <th></th>\n",
       "      <th>CONTENIDO A ANALIZAR</th>\n",
       "      <th>INTENSIDAD</th>\n",
       "    </tr>\n",
       "  </thead>\n",
       "  <tbody>\n",
       "    <tr>\n",
       "      <th>0</th>\n",
       "      <td>el barça nunca acaeza ante un segundo b ni ant...</td>\n",
       "      <td>3.0</td>\n",
       "    </tr>\n",
       "    <tr>\n",
       "      <th>1</th>\n",
       "      <td>el real madrid ha puesto punto y final a su an...</td>\n",
       "      <td>0.0</td>\n",
       "    </tr>\n",
       "    <tr>\n",
       "      <th>2</th>\n",
       "      <td>cristina cifuentes podría haber sido la presid...</td>\n",
       "      <td>3.0</td>\n",
       "    </tr>\n",
       "    <tr>\n",
       "      <th>3</th>\n",
       "      <td>habría que reabrir el caso. el supremo se dedi...</td>\n",
       "      <td>3.0</td>\n",
       "    </tr>\n",
       "    <tr>\n",
       "      <th>4</th>\n",
       "      <td>me parece un poco exagerado pedir más de tres ...</td>\n",
       "      <td>3.0</td>\n",
       "    </tr>\n",
       "    <tr>\n",
       "      <th>...</th>\n",
       "      <td>...</td>\n",
       "      <td>...</td>\n",
       "    </tr>\n",
       "    <tr>\n",
       "      <th>485707</th>\n",
       "      <td>que mala es ayuso , que cobra menos impuestos ...</td>\n",
       "      <td>4.0</td>\n",
       "    </tr>\n",
       "    <tr>\n",
       "      <th>485708</th>\n",
       "      <td>quién paga la factura de las \"televisiones\" de...</td>\n",
       "      <td>1.0</td>\n",
       "    </tr>\n",
       "    <tr>\n",
       "      <th>485709</th>\n",
       "      <td>sabéis lo que está abultada?\\nel tamaño de nue...</td>\n",
       "      <td>4.0</td>\n",
       "    </tr>\n",
       "    <tr>\n",
       "      <th>485710</th>\n",
       "      <td>sólo queréis el dinero público para que se inv...</td>\n",
       "      <td>4.0</td>\n",
       "    </tr>\n",
       "    <tr>\n",
       "      <th>485711</th>\n",
       "      <td>un panfleto, criticando el gasto públco????soi...</td>\n",
       "      <td>4.0</td>\n",
       "    </tr>\n",
       "  </tbody>\n",
       "</table>\n",
       "<p>485712 rows × 2 columns</p>\n",
       "</div>"
      ],
      "text/plain": [
       "                                     CONTENIDO A ANALIZAR  INTENSIDAD\n",
       "0       el barça nunca acaeza ante un segundo b ni ant...         3.0\n",
       "1       el real madrid ha puesto punto y final a su an...         0.0\n",
       "2       cristina cifuentes podría haber sido la presid...         3.0\n",
       "3       habría que reabrir el caso. el supremo se dedi...         3.0\n",
       "4       me parece un poco exagerado pedir más de tres ...         3.0\n",
       "...                                                   ...         ...\n",
       "485707  que mala es ayuso , que cobra menos impuestos ...         4.0\n",
       "485708  quién paga la factura de las \"televisiones\" de...         1.0\n",
       "485709  sabéis lo que está abultada?\\nel tamaño de nue...         4.0\n",
       "485710  sólo queréis el dinero público para que se inv...         4.0\n",
       "485711  un panfleto, criticando el gasto públco????soi...         4.0\n",
       "\n",
       "[485712 rows x 2 columns]"
      ]
     },
     "execution_count": 72,
     "metadata": {},
     "output_type": "execute_result"
    }
   ],
   "source": [
    "data"
   ]
  },
  {
   "cell_type": "markdown",
   "metadata": {},
   "source": [
    "<b>Incluye aquí, debajo de la línea, la explicación de tu respuesta</b>\n",
    "<hr>\n",
    " \n",
    "Las oraciones se suelen separar por \".\", \"?\" o \"!\", por lo que si separamos las oraciones por ahí y hacemos la media de oraciones por cada grupo, nos da que el promedio de oraciones en comentarios de odio es de aproximadamente 1.61.\n",
    "\n",
    "Mientras que el promedio de oraciones en comentarios que no son de odio es de aproximadamente 5.86."
   ]
  },
  {
   "cell_type": "markdown",
   "metadata": {},
   "source": [
    "<span style=\"font-size: 14pt; font-weight: bold; color: #0098cd;\">Pregunta 6.</span>\n",
    "<span style=\"font-size: 14pt; font-weight: bold; color: #0098cd;\">Considerando dos grupos de comentarios (odio y no odio) ¿Cuál es el porcentaje de comentarios que contienen entidades NER en cada grupo?</span>"
   ]
  },
  {
   "cell_type": "markdown",
   "metadata": {},
   "source": [
    "A partir de ahora, tras muchos experimentos donde me daba un error en el kernel, voy a hacer las cosas con listas, de esta forma voy a probar que no se reinicie. "
   ]
  },
  {
   "cell_type": "code",
   "execution_count": null,
   "metadata": {},
   "outputs": [
    {
     "name": "stdout",
     "output_type": "stream",
     "text": [
      "el barça nunca acaeza ante un segundo b ni ante un tercera , ya estan los arbitros para impedirlo....lo de messi es una autentica vergüenza\n",
      "3.0\n"
     ]
    }
   ],
   "source": [
    "batch_size = 50  # Ajusta según la capacidad de tu máquina\n",
    "\n",
    "doc = []\n",
    "value = []\n",
    "\n",
    "for start in range(0, 4999, batch_size):\n",
    "    end = start + batch_size\n",
    "    batch_texts = data[\"CONTENIDO A ANALIZAR\"][start:end]\n",
    "    \n",
    "    # Procesar en lote con SpaCy para optimización\n",
    "    docs_batch = list(nlp.pipe(batch_texts))  # Usa pipe para procesar por lotes\n",
    "    doc.extend(docs_batch)\n",
    "    value.extend(data[\"INTENSIDAD\"][start:end])\n",
    "\n",
    "print(doc[0])\n",
    "print(value[0])"
   ]
  },
  {
   "cell_type": "code",
   "execution_count": null,
   "metadata": {},
   "outputs": [
    {
     "data": {
      "text/plain": [
       "(messi,)"
      ]
     },
     "execution_count": 16,
     "metadata": {},
     "output_type": "execute_result"
    }
   ],
   "source": [
    "doc[0].ents"
   ]
  },
  {
   "cell_type": "code",
   "execution_count": null,
   "metadata": {},
   "outputs": [
    {
     "data": {
      "text/plain": [
       "1"
      ]
     },
     "execution_count": 17,
     "metadata": {},
     "output_type": "execute_result"
    }
   ],
   "source": [
    "len(doc[0].ents)"
   ]
  },
  {
   "cell_type": "code",
   "execution_count": null,
   "metadata": {},
   "outputs": [
    {
     "name": "stdout",
     "output_type": "stream",
     "text": [
      "Porcentaje de comentarios de odio con entidades NER: 39.57%\n",
      "Porcentaje de comentarios no de odio con entidades NER: 38.85%\n"
     ]
    }
   ],
   "source": [
    "# Inicializar contadores\n",
    "total_odio = 0\n",
    "total_no_odio = 0\n",
    "con_entidades_odio = 0\n",
    "con_entidades_no_odio = 0\n",
    "\n",
    "# Recorrer la lista de documentos y contar entidades NER\n",
    "for i in range(len(doc)):\n",
    "    if value[i] > 0:\n",
    "        total_odio += 1\n",
    "        if len(doc[i].ents) > 0:\n",
    "            con_entidades_odio += 1\n",
    "    else:\n",
    "        total_no_odio += 1\n",
    "        if len(doc[i].ents) > 0:\n",
    "            con_entidades_no_odio += 1\n",
    "\n",
    "# Calcular porcentajes\n",
    "porcentaje_odio_con_entidades = (con_entidades_odio / total_odio) * 100 if total_odio > 0 else 0\n",
    "porcentaje_no_odio_con_entidades = (con_entidades_no_odio / total_no_odio) * 100 if total_no_odio > 0 else 0\n",
    "\n",
    "print(f\"Porcentaje de comentarios de odio con entidades NER: {porcentaje_odio_con_entidades:.2f}%\")\n",
    "print(f\"Porcentaje de comentarios no de odio con entidades NER: {porcentaje_no_odio_con_entidades:.2f}%\")\n"
   ]
  },
  {
   "cell_type": "markdown",
   "metadata": {},
   "source": [
    "<b>Incluye aquí, debajo de la línea, la explicación de tu respuesta</b>\n",
    "<hr>\n",
    " \n",
    "Tras guardar en una lista cada comentario y en otra cada una de las valoraciones de odio, podemos calcular el porcentaje de coementarios de odio y no odio con entidades NER, el cual es este:\n",
    "\n",
    "Porcentaje de comentarios de odio con entidades NER: 36.50%\n",
    "Porcentaje de comentarios no de odio con entidades NER: 59.37%"
   ]
  },
  {
   "cell_type": "markdown",
   "metadata": {},
   "source": [
    "<span style=\"font-size: 14pt; font-weight: bold; color: #0098cd;\">Pregunta 7.</span>\n",
    "<span style=\"font-size: 14pt; font-weight: bold; color: #0098cd;\">Considerando dos grupos de comentarios (odio y no odio) ¿Cuál es el porcentaje de comentarios que contienen entidades NER de tipo PERSON en cada grupo?</span>"
   ]
  },
  {
   "cell_type": "code",
   "execution_count": null,
   "metadata": {},
   "outputs": [
    {
     "name": "stdout",
     "output_type": "stream",
     "text": [
      "(real madrid, copa del rey, zidane, madrid, zidane)\n",
      "5\n",
      "PER\n"
     ]
    }
   ],
   "source": [
    "print(doc[1].ents)\n",
    "print(len(doc[1].ents))\n",
    "print(doc[1].ents[2].label_)"
   ]
  },
  {
   "cell_type": "code",
   "execution_count": null,
   "metadata": {},
   "outputs": [],
   "source": [
    "# # Inicializar contadores\n",
    "# total_odio = 0\n",
    "# total_no_odio = 0\n",
    "# con_entidades_person_odio = 0\n",
    "# con_entidades_person_no_odio = 0\n",
    "\n",
    "# # Recorrer la lista de documentos y contar entidades NER de tipo PERSON\n",
    "# for i in range(len(doc)):\n",
    "#     texto_procesado = nlp(doc[i])  # Procesar el texto con el modelo de NLP\n",
    "    \n",
    "#     if value[i] > 0:  # Comentario de odio\n",
    "#         total_odio += 1\n",
    "#         if any(ent.label_ == \"PER\" for ent in texto_procesado.ents):  # Comprobar si hay una entidad de tipo PERSON\n",
    "#             con_entidades_person_odio += 1\n",
    "#     else:  # Comentario no de odio\n",
    "#         total_no_odio += 1\n",
    "#         if any(ent.label_ == \"PER\" for ent in texto_procesado.ents):  # Comprobar si hay una entidad de tipo PERSON\n",
    "#             con_entidades_person_no_odio += 1\n",
    "\n",
    "# # Calcular porcentajes\n",
    "# porcentaje_odio_con_entidades_person = (con_entidades_person_odio / total_odio) * 100 if total_odio > 0 else 0\n",
    "# porcentaje_no_odio_con_entidades_person = (con_entidades_person_no_odio / total_no_odio) * 100 if total_no_odio > 0 else 0\n",
    "\n",
    "# # Imprimir resultados\n",
    "# print(f\"Porcentaje de comentarios de odio con entidades NER de tipo PERSON: {porcentaje_odio_con_entidades_person:.2f}%\")\n",
    "# print(f\"Porcentaje de comentarios no de odio con entidades NER de tipo PERSON: {porcentaje_no_odio_con_entidades_person:.2f}%\")"
   ]
  },
  {
   "cell_type": "code",
   "execution_count": null,
   "metadata": {},
   "outputs": [],
   "source": [
    "# # Frase para analizar\n",
    "# texto = \"Lionel Messi juega en el Inter Miami y ganó el Balón de Oro en 2023.\"\n",
    "\n",
    "# # Procesar el texto con el modelo de SpaCy\n",
    "# doc1 = nlp(texto)\n",
    "\n",
    "# # Identificar y contar las entidades\n",
    "# entidades = [(ent.text, ent.label_) for ent in doc1.ents]  # Lista de entidades con sus etiquetas\n",
    "# total_entidades = len(entidades)  # Contar cuántas entidades hay\n",
    "\n",
    "# # Mostrar los resultados\n",
    "# print(\"Entidades encontradas:\")\n",
    "# for entidad, etiqueta in entidades:\n",
    "#     print(f\"Texto: {entidad}, Etiqueta: {etiqueta}\")\n",
    "\n",
    "# print(f\"Total de entidades: {total_entidades}\")"
   ]
  },
  {
   "cell_type": "markdown",
   "metadata": {},
   "source": [
    "<b>Incluye aquí, debajo de la línea, la explicación de tu respuesta</b>\n",
    "<hr>\n",
    " "
   ]
  },
  {
   "cell_type": "markdown",
   "metadata": {},
   "source": [
    "<span style=\"font-size: 14pt; font-weight: bold; color: #0098cd;\">Pregunta 8.</span>\n",
    "<span style=\"font-size: 14pt; font-weight: bold; color: #0098cd;\">Considerando dos grupos de comentarios (odio y no odio) ¿Cuál es el porcentaje de palabras en cada combinación posible de género y número (p.ej. masculino singular) en cada grupo?</span>"
   ]
  },
  {
   "cell_type": "code",
   "execution_count": null,
   "metadata": {},
   "outputs": [],
   "source": [
    "# Incluye aquí el código generado para poder responder a tu pregunta\n"
   ]
  },
  {
   "cell_type": "markdown",
   "metadata": {},
   "source": [
    "<b>Incluye aquí, debajo de la línea, la explicación de tu respuesta</b>\n",
    "<hr>\n",
    " "
   ]
  },
  {
   "cell_type": "markdown",
   "metadata": {},
   "source": [
    "<span style=\"font-size: 14pt; font-weight: bold; color: #0098cd;\">Pregunta 9.</span>\n",
    "<span style=\"font-size: 14pt; font-weight: bold; color: #0098cd;\">Considerando dos grupos de comentarios (odio y no odio), indica cuántas entidades de cada tipo posible se reconocen en cada uno de los grupos</span>"
   ]
  },
  {
   "cell_type": "code",
   "execution_count": null,
   "metadata": {},
   "outputs": [],
   "source": [
    "# Incluye aquí el código generado para poder responder a tu pregunta\n"
   ]
  },
  {
   "cell_type": "markdown",
   "metadata": {},
   "source": [
    "<b>Incluye aquí, debajo de la línea, la explicación de tu respuesta</b>\n",
    "<hr>\n",
    " "
   ]
  },
  {
   "cell_type": "markdown",
   "metadata": {},
   "source": [
    "<span style=\"font-size: 14pt; font-weight: bold; color: #0098cd;\">Pregunta 10.</span>\n",
    "<span style=\"font-size: 14pt; font-weight: bold; color: #0098cd;\">Considerando dos grupos de comentarios (odio y no odio), extrae y muestra los 100 lemas más repetidos en los comentarios de cada grupo</span>"
   ]
  },
  {
   "cell_type": "code",
   "execution_count": null,
   "metadata": {},
   "outputs": [],
   "source": [
    "# Incluye aquí el código generado para poder responder a tu pregunta\n"
   ]
  },
  {
   "cell_type": "markdown",
   "metadata": {},
   "source": [
    "<b>Incluye aquí, debajo de la línea, la explicación de tu respuesta</b>\n",
    "<hr>\n",
    " "
   ]
  },
  {
   "cell_type": "markdown",
   "metadata": {},
   "source": [
    "<span style=\"font-size: 14pt; font-weight: bold; color: #0098cd;\">Pregunta 11.</span>\n",
    "<span style=\"font-size: 14pt; font-weight: bold; color: #0098cd;\">¿Es posible utilizar alguna de las características extraídas en las preguntas anteriores para determinar si un mensaje contiene odio? Justifica tu respuesta con el análisis estadístico que consideres necesario.</span>"
   ]
  },
  {
   "cell_type": "code",
   "execution_count": null,
   "metadata": {},
   "outputs": [],
   "source": [
    "# Incluye aquí el código generado para poder responder a tu pregunta\n"
   ]
  },
  {
   "cell_type": "markdown",
   "metadata": {},
   "source": [
    "<b>Incluye aquí, debajo de la línea, la explicación de tu respuesta</b>\n",
    "<hr>\n",
    " "
   ]
  }
 ],
 "metadata": {
  "kernelspec": {
   "display_name": "Python 3",
   "language": "python",
   "name": "python3"
  },
  "language_info": {
   "codemirror_mode": {
    "name": "ipython",
    "version": 3
   },
   "file_extension": ".py",
   "mimetype": "text/x-python",
   "name": "python",
   "nbconvert_exporter": "python",
   "pygments_lexer": "ipython3",
   "version": "3.11.10"
  }
 },
 "nbformat": 4,
 "nbformat_minor": 4
}
