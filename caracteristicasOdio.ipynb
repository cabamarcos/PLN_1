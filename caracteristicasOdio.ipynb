{
 "cells": [
  {
   "cell_type": "markdown",
   "metadata": {},
   "source": [
    "**Universidad Internacional de La Rioja (UNIR) - Máster Universitario en Inteligencia Artificial - Procesamiento del Lenguaje Natural** "
   ]
  },
  {
   "cell_type": "markdown",
   "metadata": {},
   "source": [
    "***\n",
    "Datos del alumno (Nombre y Apellidos):\n",
    "\n",
    "Fecha:\n",
    "***"
   ]
  },
  {
   "cell_type": "markdown",
   "metadata": {},
   "source": [
    "<span style=\"font-size: 20pt; font-weight: bold; color: #0098cd;\">Trabajo: Named-Entity Recognition</span>\n",
    "\n",
    "**Objetivos** \n",
    "\n",
    "Con esta actividad se tratará de que el alumno se familiarice con el manejo de la librería spacy, así como con los conceptos básicos de manejo de las técnicas NER\n",
    "\n",
    "**Descripción**\n",
    "\n",
    "En esta actividad debes procesar de forma automática un texto en lenguaje natural para detectar características básicas en el mismo, y para identificar y etiquetar las ocurrencias de conceptos como localización, moneda, empresas, etc.\n",
    "\n",
    "En la primera parte del ejercicio se proporciona un código fuente a través del cual se lee un archivo de texto y se realiza un preprocesado del mismo. En esta parte el alumno tan sólo debe ejecutar y entender el código proporcionado.\n",
    "\n",
    "En la segunda parte del ejercicio se plantean una serie de preguntas que deben ser respondidas por el alumno. Cada pregunta deberá responderse con un fragmento de código fuente que esté acompañado de la explicación correspondiente. Para elaborar el código solicitado, el alumno deberá visitar la documentación de la librería spacy, cuyos enlaces se proporcionarán donde corresponda."
   ]
  },
  {
   "cell_type": "markdown",
   "metadata": {},
   "source": [
    "# Parte 1: carga y preprocesamiento del texto a analizar"
   ]
  },
  {
   "cell_type": "markdown",
   "metadata": {},
   "source": [
    "Observa las diferentes librerías que se están importando."
   ]
  },
  {
   "cell_type": "code",
   "execution_count": 1,
   "metadata": {},
   "outputs": [],
   "source": [
    "import pathlib\n",
    "import spacy\n",
    "import pandas as pd\n",
    "from spacy import displacy\n",
    "import csv\n",
    "import es_core_news_md"
   ]
  },
  {
   "cell_type": "markdown",
   "metadata": {},
   "source": [
    "El siguiente código simplemente carga y preprocesa el texto. Para ello, lo primero que hace es cargar un modelo de lenguaje previamente entrenado. En este caso, se utiliza <i>es_core_news_md</i>: \n",
    "\n",
    "https://spacy.io/models/es#es_core_news_md\n"
   ]
  },
  {
   "cell_type": "code",
   "execution_count": 2,
   "metadata": {},
   "outputs": [],
   "source": [
    "nlp = es_core_news_md.load()"
   ]
  },
  {
   "cell_type": "markdown",
   "metadata": {},
   "source": [
    "El objeto <i>nlp</i> permite utilizar el modelo de lenguaje cargado, de forma que se puede procesar un texto y obtenerlo en su versión preprocesada. Así, nos permite realizar las diferentes tareas. En este caso, vamos a utilizar el pipeline para hacer un preprocesamiento básico, que consiste en tokenizar el texto."
   ]
  },
  {
   "cell_type": "code",
   "execution_count": 3,
   "metadata": {},
   "outputs": [],
   "source": [
    "filename = \"./comentariosOdio.csv\""
   ]
  },
  {
   "cell_type": "code",
   "execution_count": 4,
   "metadata": {},
   "outputs": [
    {
     "name": "stderr",
     "output_type": "stream",
     "text": [
      "C:\\Users\\Usuario\\AppData\\Local\\Temp\\ipykernel_19612\\916618882.py:2: DtypeWarning: Columns (5,6,7,8,9,10,11,12,13,14) have mixed types. Specify dtype option on import or set low_memory=False.\n",
      "  data = pd.read_csv(filename, delimiter=';', encoding='latin1')\n"
     ]
    }
   ],
   "source": [
    "\n",
    "lines_number = 20\n",
    "data = pd.read_csv(filename, delimiter=';', encoding='latin1')  \n",
    "#data = pd.read_csv(filename, delimiter=';',nrows=lines_number)  "
   ]
  },
  {
   "cell_type": "markdown",
   "metadata": {},
   "source": [
    "El código anterior carga el archivo CSV (opcionalmente con un límite de líneas a leer) y genera la variable <i>data</i>, que contiene un Dataframe (https://pandas.pydata.org/docs/reference/api/pandas.DataFrame.html) con los datos leídos del CSV."
   ]
  },
  {
   "cell_type": "markdown",
   "metadata": {},
   "source": [
    "Te vendrá bien conocer la siguiente documentación:\n",
    "<ul>\n",
    "    <li>https://spacy.io/api/doc</li>\n",
    "    <li>https://spacy.io/api/token</li>\n",
    "    <li>https://spacy.io/api/morphology#morphanalysis</li>\n",
    "</ul>"
   ]
  },
  {
   "cell_type": "markdown",
   "metadata": {},
   "source": [
    "### Playground\n",
    "\n",
    "Utiliza este espacio para hacer pruebas y ensayos con las variables generadas con el código previo. A modo de ejemplo, se ofrece código que realiza las siguientes tareas: \n",
    "\n",
    "\n",
    "- leer un número dado de líneas del Dataframe y generar dos listas con los valores (se pueden leer directamente del DataFrame, se muestra el ejemplo como una opción más)\n",
    "- procesar el texto de cada comentario\n",
    "\n",
    "\n",
    "Para procesarlo, hay utilizar el objeto <i>nlp</i> y así obtener objetos de la clase <i>Doc</i> (https://spacy.io/api/doc)\n",
    "\n",
    "Visita la documentación de dicha clase y experimenta probando las diferentes funciones y atributos "
   ]
  },
  {
   "cell_type": "code",
   "execution_count": 5,
   "metadata": {},
   "outputs": [
    {
     "name": "stdout",
     "output_type": "stream",
     "text": [
      "el\n",
      "real\n",
      "madrid\n",
      "ha\n",
      "puesto\n",
      "punto\n",
      "y\n",
      "final\n",
      "a\n",
      "su\n",
      "andadura\n",
      "en\n",
      "la\n",
      "copa\n",
      "del\n",
      "rey\n",
      "en\n",
      "el\n",
      "primer\n",
      "escalÃ³n\n",
      ".\n",
      "los\n",
      "de\n",
      "zidane\n",
      "han\n",
      "caÃ­do\n",
      "ante\n",
      "el\n",
      "alcoyano\n",
      ",\n",
      "de\n",
      "segunda\n",
      "b\n",
      ",\n",
      "a\n",
      "pesar\n",
      "de\n",
      "empezar\n",
      "ganando\n",
      "y\n",
      "jugar\n",
      "con\n",
      "un\n",
      "hombre\n",
      "menos\n",
      "en\n",
      "la\n",
      "prÃ³rroga\n",
      ".\n",
      "el\n",
      "tÃ\n",
      "©\n",
      "cnico\n",
      "francÃ\n",
      "©\n",
      "s\n",
      "dispuso\n",
      "un\n",
      "equipo\n",
      "plagado\n",
      "de\n",
      "los\n",
      "menos\n",
      "habituales\n",
      ",\n",
      "con\n",
      "vinicius\n",
      "y\n",
      "mariano\n",
      "en\n",
      "ataque\n",
      ".\n",
      "ninguno\n",
      "de\n",
      "los\n",
      "dos\n",
      "logrÃ³\n",
      "crear\n",
      "ocasiones\n",
      ".\n",
      "fue\n",
      "militao\n",
      "el\n",
      "que\n",
      "marcÃ³\n",
      "el\n",
      "gol\n",
      "del\n",
      "madrid\n",
      ",\n",
      "justo\n",
      "antes\n",
      "del\n",
      "descanso\n",
      ".\n",
      "en\n",
      "la\n",
      "segunda\n",
      "parte\n",
      "intentaron\n",
      "cerrar\n",
      "el\n",
      "partido\n",
      ",\n",
      "pero\n",
      "sin\n",
      "el\n",
      "colmillo\n",
      "suficiente\n",
      "y\n",
      "el\n",
      "modesto\n",
      "alcoyano\n",
      "aprovechÃ³\n",
      "un\n",
      "cÃ³rner\n",
      "para\n",
      "empatar\n",
      "el\n",
      "partido\n",
      "a\n",
      "cinco\n",
      "minutos\n",
      "para\n",
      "el\n",
      "final\n",
      ".\n",
      "el\n",
      "empate\n",
      "sentÃ³\n",
      "como\n",
      "un\n",
      "jarro\n",
      "de\n",
      "agua\n",
      "frÃ­a\n",
      "a\n",
      "los\n",
      "blancos\n",
      ",\n",
      "que\n",
      "lo\n",
      "intentaron\n",
      "en\n",
      "el\n",
      "tiempo\n",
      "extra\n",
      "a\n",
      "falta\n",
      "de\n",
      "cinco\n",
      "minutos\n",
      ",\n",
      "el\n",
      "casanova\n",
      "consiguiÃ³\n",
      "el\n",
      "gol\n",
      "mÃ¡s\n",
      "importante\n",
      "de\n",
      "su\n",
      "vida\n",
      ",\n",
      "que\n",
      "vale\n",
      "la\n",
      "clasificaciÃ³n\n",
      "para\n",
      "octavos\n",
      "de\n",
      "la\n",
      "copa\n",
      ".\n",
      "el\n",
      "madrid\n",
      "de\n",
      "zidane\n",
      "queda\n",
      "apeado\n",
      "del\n",
      "torneo\n",
      "una\n",
      "vez\n",
      "mÃ¡s\n",
      ",\n",
      "por\n",
      "lo\n",
      "que\n",
      "el\n",
      "francÃ\n",
      "©\n",
      "s\n",
      "se\n",
      "quedarÃ\n",
      "¡\n",
      "sin\n",
      "pelear\n",
      "por\n",
      "el\n",
      "Ãºnico\n",
      "tÃ­tulo\n",
      "que\n",
      "no\n",
      "ha\n",
      "conseguido\n",
      "nunca\n",
      ".\n",
      "asÃ­\n",
      "hemos\n",
      "contado\n",
      "el\n",
      "minuto\n",
      "a\n",
      "minuto\n",
      "del\n",
      "partido\n",
      "en\n",
      "directo\n",
      ":\n"
     ]
    }
   ],
   "source": [
    "# Puedes insertar aquí código de pruebas para experimentar con las diferentes funciones y atributos de 'doc'.\n",
    "#print(data[\"CONTENIDO A ANALIZAR\"][1])\n",
    "#print(data[\"INTENSIDAD\"][1])\n",
    "doc = []\n",
    "value = []\n",
    "\n",
    "#con el bucle, generamos sendas listas con los comentarios ya parseados y con el valor de intensidad\n",
    "for i in range(0, lines_number):#'''len(data[\"CONTENIDO A ANALIZAR\"])'''\n",
    "    \n",
    "    #en un primer paso se parsea el comentario. En el segundo paso se añade el objeto a la lista\n",
    "    tmp_doc = nlp(data[\"CONTENIDO A ANALIZAR\"][i])\n",
    "    doc.append(tmp_doc)\n",
    "    \n",
    "    #en un primer paso extrae el valor. En el segundo paso se añade el valor a la lista\n",
    "    tmp_value = data[\"INTENSIDAD\"][i]\n",
    "    value.append(tmp_value)\n",
    "\n",
    "\n",
    "#ejemplo de cómo recorrer un comentario palabra por palabra    \n",
    "for token in doc[1]:\n",
    "    print(token)"
   ]
  },
  {
   "cell_type": "markdown",
   "metadata": {},
   "source": [
    "<span style=\"font-size: 14pt; font-weight: bold; color: #0098cd;\">Pregunta 1.</span>\n",
    "<span style=\"font-size: 14pt; font-weight: bold; color: #0098cd;\">¿Cuántos registros contiene el corpus?</span>"
   ]
  },
  {
   "cell_type": "code",
   "execution_count": 6,
   "metadata": {},
   "outputs": [
    {
     "name": "stdout",
     "output_type": "stream",
     "text": [
      "Número de registros: 574915\n"
     ]
    }
   ],
   "source": [
    "print(f\"Número de registros: {len(data)}\")"
   ]
  },
  {
   "cell_type": "markdown",
   "metadata": {},
   "source": [
    "<b>Incluye aquí, debajo de la línea, la explicación de tu respuesta</b>\n",
    "<hr>\n",
    "\n",
    "El dataset contiene 574915 registros si miramos el número de filas del CSV"
   ]
  },
  {
   "cell_type": "markdown",
   "metadata": {},
   "source": [
    "<span style=\"font-size: 14pt; font-weight: bold; color: #0098cd;\">Pregunta 2.</span>\n",
    "<span style=\"font-size: 14pt; font-weight: bold; color: #0098cd;\">¿Cuántas palabras totales hay en los comentarios del corpus?</span>"
   ]
  },
  {
   "cell_type": "markdown",
   "metadata": {},
   "source": [
    "He visto que hay varios problemas en el dataset:\n",
    "- Muchas filas en las que todos los valores son nulos menos 1, que es la continuación del contenido de la fila anterior. Para arreglar esto borraré las filas que solo contengan ese valor.\n",
    "- Hay varias columnas más de las que son en verdad. Esto se debe a que hay direcciones, nombres y demás mal tabulados. Borraré todas las columnas que no tengan un nombre definido, ya que estas columnas en realidad no tienen nombre."
   ]
  },
  {
   "cell_type": "code",
   "execution_count": 7,
   "metadata": {},
   "outputs": [
    {
     "name": "stdout",
     "output_type": "stream",
     "text": [
      "Fila con datos en columna excedente (Unnamed: 9):\n",
      "MEDIO                                                           alcoi, 66\n",
      "SOPORTE                                                    en mislata, 62\n",
      "URL                                                           en elda, 61\n",
      "TIPO DE MENSAJE                                              en xàbia, 59\n",
      "CONTENIDO A ANALIZAR                                      el campello, 53\n",
      "INTENSIDAD                                             la vila joiosa, 52\n",
      "TIPO DE ODIO                                     burjassot y l'eliana, 51\n",
      "TONO HUMORISTICO                                              godella, 49\n",
      "MODIFICADOR                                                   manises, 48\n",
      "Unnamed: 9                                                    alfafar, 47\n",
      "Unnamed: 10                                                     puçol, 46\n",
      "Unnamed: 11                                                benicàssim, 45\n",
      "Unnamed: 12                               benicarló, petrer y vinaròs, 44\n",
      "Unnamed: 13                                           algemesí y calp, 43\n",
      "Unnamed: 14              aldaia, la pobla de vallbona, 42 y borriana y...\n",
      "Unnamed: 15                                                           0.0\n",
      "Name: 122844, dtype: object\n",
      "----------------------------------------\n",
      "Fila con datos en columna excedente (Unnamed: 9):\n",
      "MEDIO                                                           alcoi, 66\n",
      "SOPORTE                                                    en mislata, 62\n",
      "URL                                                           en elda, 61\n",
      "TIPO DE MENSAJE                                              en xàbia, 59\n",
      "CONTENIDO A ANALIZAR                                      el campello, 53\n",
      "INTENSIDAD                                             la vila joiosa, 52\n",
      "TIPO DE ODIO                                     burjassot y l'eliana, 51\n",
      "TONO HUMORISTICO                                              godella, 49\n",
      "MODIFICADOR                                                   manises, 48\n",
      "Unnamed: 9                                                    alfafar, 47\n",
      "Unnamed: 10                                                     puçol, 46\n",
      "Unnamed: 11                                                benicàssim, 45\n",
      "Unnamed: 12                               benicarló, petrer y vinaròs, 44\n",
      "Unnamed: 13                                           algemesí y calp, 43\n",
      "Unnamed: 14              aldaia, la pobla de vallbona, 42 y borriana y...\n",
      "Unnamed: 15                                                           0.0\n",
      "Name: 122880, dtype: object\n",
      "----------------------------------------\n",
      "Fila con datos en columna excedente (Unnamed: 9):\n",
      "MEDIO                   ad del cliente, se negó a responder preguntas ...\n",
      "SOPORTE                                               le monde de francia\n",
      "URL                                               malaysiakjni de malasia\n",
      "TIPO DE MENSAJE                                   stand news de hong kong\n",
      "CONTENIDO A ANALIZAR                            occrp e istories en rusia\n",
      "INTENSIDAD                                      tanya kozyreva en ucrania\n",
      "TIPO DE ODIO             australian broadcasting corp. y australian fi...\n",
      "TONO HUMORISTICO                              karlijn kuijpers en holanda\n",
      "MODIFICADOR                          the guardian y la bbc en reino unido\n",
      "Unnamed: 9               the washington post, the miami herald y the w...\n",
      "Unnamed: 10                                                           0.0\n",
      "Unnamed: 11                                                           NaN\n",
      "Unnamed: 12                                                           NaN\n",
      "Unnamed: 13                                                           NaN\n",
      "Unnamed: 14                                                           NaN\n",
      "Unnamed: 15                                                           NaN\n",
      "Name: 504362, dtype: object\n",
      "----------------------------------------\n",
      "Fila con datos en columna excedente (Unnamed: 10):\n",
      "MEDIO                                                           alcoi, 66\n",
      "SOPORTE                                                    en mislata, 62\n",
      "URL                                                           en elda, 61\n",
      "TIPO DE MENSAJE                                              en xàbia, 59\n",
      "CONTENIDO A ANALIZAR                                      el campello, 53\n",
      "INTENSIDAD                                             la vila joiosa, 52\n",
      "TIPO DE ODIO                                     burjassot y l'eliana, 51\n",
      "TONO HUMORISTICO                                              godella, 49\n",
      "MODIFICADOR                                                   manises, 48\n",
      "Unnamed: 9                                                    alfafar, 47\n",
      "Unnamed: 10                                                     puçol, 46\n",
      "Unnamed: 11                                                benicàssim, 45\n",
      "Unnamed: 12                               benicarló, petrer y vinaròs, 44\n",
      "Unnamed: 13                                           algemesí y calp, 43\n",
      "Unnamed: 14              aldaia, la pobla de vallbona, 42 y borriana y...\n",
      "Unnamed: 15                                                           0.0\n",
      "Name: 122844, dtype: object\n",
      "----------------------------------------\n",
      "Fila con datos en columna excedente (Unnamed: 10):\n",
      "MEDIO                                                           alcoi, 66\n",
      "SOPORTE                                                    en mislata, 62\n",
      "URL                                                           en elda, 61\n",
      "TIPO DE MENSAJE                                              en xàbia, 59\n",
      "CONTENIDO A ANALIZAR                                      el campello, 53\n",
      "INTENSIDAD                                             la vila joiosa, 52\n",
      "TIPO DE ODIO                                     burjassot y l'eliana, 51\n",
      "TONO HUMORISTICO                                              godella, 49\n",
      "MODIFICADOR                                                   manises, 48\n",
      "Unnamed: 9                                                    alfafar, 47\n",
      "Unnamed: 10                                                     puçol, 46\n",
      "Unnamed: 11                                                benicàssim, 45\n",
      "Unnamed: 12                               benicarló, petrer y vinaròs, 44\n",
      "Unnamed: 13                                           algemesí y calp, 43\n",
      "Unnamed: 14              aldaia, la pobla de vallbona, 42 y borriana y...\n",
      "Unnamed: 15                                                           0.0\n",
      "Name: 122880, dtype: object\n",
      "----------------------------------------\n",
      "Fila con datos en columna excedente (Unnamed: 10):\n",
      "MEDIO                   ad del cliente, se negó a responder preguntas ...\n",
      "SOPORTE                                               le monde de francia\n",
      "URL                                               malaysiakjni de malasia\n",
      "TIPO DE MENSAJE                                   stand news de hong kong\n",
      "CONTENIDO A ANALIZAR                            occrp e istories en rusia\n",
      "INTENSIDAD                                      tanya kozyreva en ucrania\n",
      "TIPO DE ODIO             australian broadcasting corp. y australian fi...\n",
      "TONO HUMORISTICO                              karlijn kuijpers en holanda\n",
      "MODIFICADOR                          the guardian y la bbc en reino unido\n",
      "Unnamed: 9               the washington post, the miami herald y the w...\n",
      "Unnamed: 10                                                           0.0\n",
      "Unnamed: 11                                                           NaN\n",
      "Unnamed: 12                                                           NaN\n",
      "Unnamed: 13                                                           NaN\n",
      "Unnamed: 14                                                           NaN\n",
      "Unnamed: 15                                                           NaN\n",
      "Name: 504362, dtype: object\n",
      "----------------------------------------\n",
      "Fila con datos en columna excedente (Unnamed: 11):\n",
      "MEDIO                                                           alcoi, 66\n",
      "SOPORTE                                                    en mislata, 62\n",
      "URL                                                           en elda, 61\n",
      "TIPO DE MENSAJE                                              en xàbia, 59\n",
      "CONTENIDO A ANALIZAR                                      el campello, 53\n",
      "INTENSIDAD                                             la vila joiosa, 52\n",
      "TIPO DE ODIO                                     burjassot y l'eliana, 51\n",
      "TONO HUMORISTICO                                              godella, 49\n",
      "MODIFICADOR                                                   manises, 48\n",
      "Unnamed: 9                                                    alfafar, 47\n",
      "Unnamed: 10                                                     puçol, 46\n",
      "Unnamed: 11                                                benicàssim, 45\n",
      "Unnamed: 12                               benicarló, petrer y vinaròs, 44\n",
      "Unnamed: 13                                           algemesí y calp, 43\n",
      "Unnamed: 14              aldaia, la pobla de vallbona, 42 y borriana y...\n",
      "Unnamed: 15                                                           0.0\n",
      "Name: 122844, dtype: object\n",
      "----------------------------------------\n",
      "Fila con datos en columna excedente (Unnamed: 11):\n",
      "MEDIO                                                           alcoi, 66\n",
      "SOPORTE                                                    en mislata, 62\n",
      "URL                                                           en elda, 61\n",
      "TIPO DE MENSAJE                                              en xàbia, 59\n",
      "CONTENIDO A ANALIZAR                                      el campello, 53\n",
      "INTENSIDAD                                             la vila joiosa, 52\n",
      "TIPO DE ODIO                                     burjassot y l'eliana, 51\n",
      "TONO HUMORISTICO                                              godella, 49\n",
      "MODIFICADOR                                                   manises, 48\n",
      "Unnamed: 9                                                    alfafar, 47\n",
      "Unnamed: 10                                                     puçol, 46\n",
      "Unnamed: 11                                                benicàssim, 45\n",
      "Unnamed: 12                               benicarló, petrer y vinaròs, 44\n",
      "Unnamed: 13                                           algemesí y calp, 43\n",
      "Unnamed: 14              aldaia, la pobla de vallbona, 42 y borriana y...\n",
      "Unnamed: 15                                                           0.0\n",
      "Name: 122880, dtype: object\n",
      "----------------------------------------\n",
      "Fila con datos en columna excedente (Unnamed: 12):\n",
      "MEDIO                                                           alcoi, 66\n",
      "SOPORTE                                                    en mislata, 62\n",
      "URL                                                           en elda, 61\n",
      "TIPO DE MENSAJE                                              en xàbia, 59\n",
      "CONTENIDO A ANALIZAR                                      el campello, 53\n",
      "INTENSIDAD                                             la vila joiosa, 52\n",
      "TIPO DE ODIO                                     burjassot y l'eliana, 51\n",
      "TONO HUMORISTICO                                              godella, 49\n",
      "MODIFICADOR                                                   manises, 48\n",
      "Unnamed: 9                                                    alfafar, 47\n",
      "Unnamed: 10                                                     puçol, 46\n",
      "Unnamed: 11                                                benicàssim, 45\n",
      "Unnamed: 12                               benicarló, petrer y vinaròs, 44\n",
      "Unnamed: 13                                           algemesí y calp, 43\n",
      "Unnamed: 14              aldaia, la pobla de vallbona, 42 y borriana y...\n",
      "Unnamed: 15                                                           0.0\n",
      "Name: 122844, dtype: object\n",
      "----------------------------------------\n",
      "Fila con datos en columna excedente (Unnamed: 12):\n",
      "MEDIO                                                           alcoi, 66\n",
      "SOPORTE                                                    en mislata, 62\n",
      "URL                                                           en elda, 61\n",
      "TIPO DE MENSAJE                                              en xàbia, 59\n",
      "CONTENIDO A ANALIZAR                                      el campello, 53\n",
      "INTENSIDAD                                             la vila joiosa, 52\n",
      "TIPO DE ODIO                                     burjassot y l'eliana, 51\n",
      "TONO HUMORISTICO                                              godella, 49\n",
      "MODIFICADOR                                                   manises, 48\n",
      "Unnamed: 9                                                    alfafar, 47\n",
      "Unnamed: 10                                                     puçol, 46\n",
      "Unnamed: 11                                                benicàssim, 45\n",
      "Unnamed: 12                               benicarló, petrer y vinaròs, 44\n",
      "Unnamed: 13                                           algemesí y calp, 43\n",
      "Unnamed: 14              aldaia, la pobla de vallbona, 42 y borriana y...\n",
      "Unnamed: 15                                                           0.0\n",
      "Name: 122880, dtype: object\n",
      "----------------------------------------\n",
      "Fila con datos en columna excedente (Unnamed: 13):\n",
      "MEDIO                                                           alcoi, 66\n",
      "SOPORTE                                                    en mislata, 62\n",
      "URL                                                           en elda, 61\n",
      "TIPO DE MENSAJE                                              en xàbia, 59\n",
      "CONTENIDO A ANALIZAR                                      el campello, 53\n",
      "INTENSIDAD                                             la vila joiosa, 52\n",
      "TIPO DE ODIO                                     burjassot y l'eliana, 51\n",
      "TONO HUMORISTICO                                              godella, 49\n",
      "MODIFICADOR                                                   manises, 48\n",
      "Unnamed: 9                                                    alfafar, 47\n",
      "Unnamed: 10                                                     puçol, 46\n",
      "Unnamed: 11                                                benicàssim, 45\n",
      "Unnamed: 12                               benicarló, petrer y vinaròs, 44\n",
      "Unnamed: 13                                           algemesí y calp, 43\n",
      "Unnamed: 14              aldaia, la pobla de vallbona, 42 y borriana y...\n",
      "Unnamed: 15                                                           0.0\n",
      "Name: 122844, dtype: object\n",
      "----------------------------------------\n",
      "Fila con datos en columna excedente (Unnamed: 13):\n",
      "MEDIO                                                           alcoi, 66\n",
      "SOPORTE                                                    en mislata, 62\n",
      "URL                                                           en elda, 61\n",
      "TIPO DE MENSAJE                                              en xàbia, 59\n",
      "CONTENIDO A ANALIZAR                                      el campello, 53\n",
      "INTENSIDAD                                             la vila joiosa, 52\n",
      "TIPO DE ODIO                                     burjassot y l'eliana, 51\n",
      "TONO HUMORISTICO                                              godella, 49\n",
      "MODIFICADOR                                                   manises, 48\n",
      "Unnamed: 9                                                    alfafar, 47\n",
      "Unnamed: 10                                                     puçol, 46\n",
      "Unnamed: 11                                                benicàssim, 45\n",
      "Unnamed: 12                               benicarló, petrer y vinaròs, 44\n",
      "Unnamed: 13                                           algemesí y calp, 43\n",
      "Unnamed: 14              aldaia, la pobla de vallbona, 42 y borriana y...\n",
      "Unnamed: 15                                                           0.0\n",
      "Name: 122880, dtype: object\n",
      "----------------------------------------\n",
      "Fila con datos en columna excedente (Unnamed: 14):\n",
      "MEDIO                                                           alcoi, 66\n",
      "SOPORTE                                                    en mislata, 62\n",
      "URL                                                           en elda, 61\n",
      "TIPO DE MENSAJE                                              en xàbia, 59\n",
      "CONTENIDO A ANALIZAR                                      el campello, 53\n",
      "INTENSIDAD                                             la vila joiosa, 52\n",
      "TIPO DE ODIO                                     burjassot y l'eliana, 51\n",
      "TONO HUMORISTICO                                              godella, 49\n",
      "MODIFICADOR                                                   manises, 48\n",
      "Unnamed: 9                                                    alfafar, 47\n",
      "Unnamed: 10                                                     puçol, 46\n",
      "Unnamed: 11                                                benicàssim, 45\n",
      "Unnamed: 12                               benicarló, petrer y vinaròs, 44\n",
      "Unnamed: 13                                           algemesí y calp, 43\n",
      "Unnamed: 14              aldaia, la pobla de vallbona, 42 y borriana y...\n",
      "Unnamed: 15                                                           0.0\n",
      "Name: 122844, dtype: object\n",
      "----------------------------------------\n",
      "Fila con datos en columna excedente (Unnamed: 14):\n",
      "MEDIO                                                           alcoi, 66\n",
      "SOPORTE                                                    en mislata, 62\n",
      "URL                                                           en elda, 61\n",
      "TIPO DE MENSAJE                                              en xàbia, 59\n",
      "CONTENIDO A ANALIZAR                                      el campello, 53\n",
      "INTENSIDAD                                             la vila joiosa, 52\n",
      "TIPO DE ODIO                                     burjassot y l'eliana, 51\n",
      "TONO HUMORISTICO                                              godella, 49\n",
      "MODIFICADOR                                                   manises, 48\n",
      "Unnamed: 9                                                    alfafar, 47\n",
      "Unnamed: 10                                                     puçol, 46\n",
      "Unnamed: 11                                                benicàssim, 45\n",
      "Unnamed: 12                               benicarló, petrer y vinaròs, 44\n",
      "Unnamed: 13                                           algemesí y calp, 43\n",
      "Unnamed: 14              aldaia, la pobla de vallbona, 42 y borriana y...\n",
      "Unnamed: 15                                                           0.0\n",
      "Name: 122880, dtype: object\n",
      "----------------------------------------\n",
      "Fila con datos en columna excedente (Unnamed: 15):\n",
      "MEDIO                                                           alcoi, 66\n",
      "SOPORTE                                                    en mislata, 62\n",
      "URL                                                           en elda, 61\n",
      "TIPO DE MENSAJE                                              en xàbia, 59\n",
      "CONTENIDO A ANALIZAR                                      el campello, 53\n",
      "INTENSIDAD                                             la vila joiosa, 52\n",
      "TIPO DE ODIO                                     burjassot y l'eliana, 51\n",
      "TONO HUMORISTICO                                              godella, 49\n",
      "MODIFICADOR                                                   manises, 48\n",
      "Unnamed: 9                                                    alfafar, 47\n",
      "Unnamed: 10                                                     puçol, 46\n",
      "Unnamed: 11                                                benicàssim, 45\n",
      "Unnamed: 12                               benicarló, petrer y vinaròs, 44\n",
      "Unnamed: 13                                           algemesí y calp, 43\n",
      "Unnamed: 14              aldaia, la pobla de vallbona, 42 y borriana y...\n",
      "Unnamed: 15                                                           0.0\n",
      "Name: 122844, dtype: object\n",
      "----------------------------------------\n",
      "Fila con datos en columna excedente (Unnamed: 15):\n",
      "MEDIO                                                           alcoi, 66\n",
      "SOPORTE                                                    en mislata, 62\n",
      "URL                                                           en elda, 61\n",
      "TIPO DE MENSAJE                                              en xàbia, 59\n",
      "CONTENIDO A ANALIZAR                                      el campello, 53\n",
      "INTENSIDAD                                             la vila joiosa, 52\n",
      "TIPO DE ODIO                                     burjassot y l'eliana, 51\n",
      "TONO HUMORISTICO                                              godella, 49\n",
      "MODIFICADOR                                                   manises, 48\n",
      "Unnamed: 9                                                    alfafar, 47\n",
      "Unnamed: 10                                                     puçol, 46\n",
      "Unnamed: 11                                                benicàssim, 45\n",
      "Unnamed: 12                               benicarló, petrer y vinaròs, 44\n",
      "Unnamed: 13                                           algemesí y calp, 43\n",
      "Unnamed: 14              aldaia, la pobla de vallbona, 42 y borriana y...\n",
      "Unnamed: 15                                                           0.0\n",
      "Name: 122880, dtype: object\n",
      "----------------------------------------\n",
      "Archivo limpio guardado como 'comentariosOdioLimpio.csv'\n",
      "Columnas eliminadas: 7\n",
      "Filas afectadas por columnas eliminadas: 16\n"
     ]
    }
   ],
   "source": [
    "import pandas as pd\n",
    "\n",
    "# Configura el nombre de tu archivo CSV original y el de salida\n",
    "input_file = \"comentariosOdio.csv\"\n",
    "output_file = \"comentariosOdioLimpio.csv\"\n",
    "\n",
    "# Lee el archivo con utf-8 y evita errores de codificación\n",
    "try:\n",
    "    with open(input_file, encoding='utf-8', errors='replace') as file:\n",
    "        df = pd.read_csv(file, delimiter=';', engine='python')\n",
    "except Exception as e:\n",
    "    print(f\"Error al leer el archivo: {e}\")\n",
    "    exit()\n",
    "\n",
    "# Guarda el número de columnas base (número de columnas en la primera fila)\n",
    "num_columnas_base = 9\n",
    "\n",
    "# Encuentra columnas con índice mayor al número de columnas base\n",
    "exceso_columnas = df.columns[num_columnas_base:]\n",
    "\n",
    "# Lista para almacenar las filas con datos en columnas excedentes\n",
    "filas_con_datos_excedentes = []\n",
    "\n",
    "# Verifica si alguna de las columnas excedentes tiene datos\n",
    "for col in exceso_columnas:\n",
    "    if df[col].notnull().any():\n",
    "        # Obtén las filas donde esta columna tiene datos\n",
    "        filas_con_datos = df[df[col].notnull()]\n",
    "        filas_con_datos_excedentes.append(filas_con_datos)\n",
    "        # Imprime cada fila que tiene datos en una columna excedente\n",
    "        for idx, fila in filas_con_datos.iterrows():\n",
    "            print(f\"Fila con datos en columna excedente ({col}):\")\n",
    "            print(fila)\n",
    "            print(\"-\" * 40)\n",
    "\n",
    "# Elimina las columnas excedentes del DataFrame\n",
    "df = df.iloc[:, :num_columnas_base]\n",
    "\n",
    "# Guarda el archivo limpio\n",
    "try:\n",
    "    df.to_csv(output_file, sep=';', index=False, encoding='utf-8')\n",
    "    print(f\"Archivo limpio guardado como '{output_file}'\")\n",
    "except Exception as e:\n",
    "    print(f\"Error al guardar el archivo: {e}\")\n",
    "\n",
    "# Imprime un resumen\n",
    "print(f\"Columnas eliminadas: {len(exceso_columnas)}\")\n",
    "print(f\"Filas afectadas por columnas eliminadas: {sum([len(f) for f in filas_con_datos_excedentes])}\")"
   ]
  },
  {
   "cell_type": "code",
   "execution_count": 8,
   "metadata": {},
   "outputs": [
    {
     "name": "stderr",
     "output_type": "stream",
     "text": [
      "C:\\Users\\Usuario\\AppData\\Local\\Temp\\ipykernel_19612\\1765508159.py:1: DtypeWarning: Columns (5) have mixed types. Specify dtype option on import or set low_memory=False.\n",
      "  data = pd.read_csv(\"comentariosOdioLimpio.csv\", delimiter=';', encoding= 'utf-8')\n"
     ]
    },
    {
     "name": "stdout",
     "output_type": "stream",
     "text": [
      "Número total de palabras en el corpus: 63025846\n"
     ]
    }
   ],
   "source": [
    "data = pd.read_csv(\"comentariosOdioLimpio.csv\", delimiter=';', encoding= 'utf-8')\n",
    "\n",
    "if \"CONTENIDO A ANALIZAR\" in data.columns:\n",
    "    #borrar columnas con valores nulos\n",
    "    data = data.dropna(subset=[\"CONTENIDO A ANALIZAR\"])\n",
    "    # Combinar todos los comentarios de la columna en un solo texto\n",
    "    texto_completo = \" \".join(data[\"CONTENIDO A ANALIZAR\"].astype(str))\n",
    "\n",
    "    # Contar las palabras\n",
    "    numero_palabras = len(texto_completo.split())\n",
    "\n",
    "    print(f\"Número total de palabras en el corpus: {numero_palabras}\")\n",
    "else:\n",
    "    print(\"La columna 'CONTENIDO A ANALIZAR' no existe en el dataset.\")"
   ]
  },
  {
   "cell_type": "markdown",
   "metadata": {},
   "source": [
    "<b>Incluye aquí, debajo de la línea, la explicación de tu respuesta</b>\n",
    "<hr>\n",
    "\n",
    "Si miramos el contenido de la columna de comentarios llmada \"CONTENIDO A ANALIZAR\", podemos ver que el corpus contiene 63025846 palabras"
   ]
  },
  {
   "cell_type": "markdown",
   "metadata": {},
   "source": [
    "<span style=\"font-size: 14pt; font-weight: bold; color: #0098cd;\">Pregunta 3.</span>\n",
    "<span style=\"font-size: 14pt; font-weight: bold; color: #0098cd;\">¿Cuál el número promedio de palabras en cada comentario?</span>"
   ]
  },
  {
   "cell_type": "code",
   "execution_count": 9,
   "metadata": {},
   "outputs": [
    {
     "name": "stdout",
     "output_type": "stream",
     "text": [
      "MEDIO                        0\n",
      "SOPORTE                      0\n",
      "URL                          0\n",
      "TIPO DE MENSAJE              1\n",
      "CONTENIDO A ANALIZAR         0\n",
      "INTENSIDAD                 121\n",
      "TIPO DE ODIO            562467\n",
      "TONO HUMORISTICO        574617\n",
      "MODIFICADOR             574410\n",
      "dtype: int64\n"
     ]
    }
   ],
   "source": [
    "# mirar si hay valores nulos\n",
    "print(data.isnull().sum())\n"
   ]
  },
  {
   "cell_type": "code",
   "execution_count": 10,
   "metadata": {},
   "outputs": [],
   "source": [
    "def contar_palabras(texto):\n",
    "    if isinstance(texto, str):\n",
    "        return len(texto.split())\n",
    "    return 0"
   ]
  },
  {
   "cell_type": "code",
   "execution_count": 11,
   "metadata": {},
   "outputs": [
    {
     "name": "stdout",
     "output_type": "stream",
     "text": [
      "Número promedio de palabras por comentario: 109.65536403700308\n",
      "\n",
      "Estadísticas adicionales:\n",
      "count    574763.000000\n",
      "mean        109.655364\n",
      "std         266.330755\n",
      "min           0.000000\n",
      "25%           8.000000\n",
      "50%          17.000000\n",
      "75%          47.000000\n",
      "max        5434.000000\n",
      "Name: num_palabras, dtype: float64\n"
     ]
    }
   ],
   "source": [
    "columna = \"CONTENIDO A ANALIZAR\"\n",
    "if columna in data.columns:\n",
    "    # Manejar valores nulos reemplazándolos por cadenas vacías\n",
    "    comentarios = data[columna].fillna(\"\").astype(str)\n",
    "    \n",
    "    # Aplicamos la función a cada comentario\n",
    "    data[\"num_palabras\"] = comentarios.apply(contar_palabras)\n",
    "    \n",
    "    # Calcular el promedio de palabras por comentario\n",
    "    promedio = data[\"num_palabras\"].mean()\n",
    "    \n",
    "    print(f\"Número promedio de palabras por comentario: {promedio}\")\n",
    "    \n",
    "    print(\"\\nEstadísticas adicionales:\")\n",
    "    print(data[\"num_palabras\"].describe())\n",
    "else:\n",
    "    print(f\"La columna '{columna}' no existe en el dataset.\")"
   ]
  },
  {
   "cell_type": "markdown",
   "metadata": {},
   "source": [
    "<b>Incluye aquí, debajo de la línea, la explicación de tu respuesta</b>\n",
    "<hr>\n",
    " \n",
    "Primero nos aseguramos de rellenar lo svalores nulos por un string vacío para no equivocarnos. Cuando esté hecho, podemos contar el número de palabras por cada fila. Una vez hecho podremos hacer la media. \n",
    "\n",
    "El número medio de palabras por comentario es de aproximadamente 109.66. "
   ]
  },
  {
   "cell_type": "markdown",
   "metadata": {},
   "source": [
    "<span style=\"font-size: 14pt; font-weight: bold; color: #0098cd;\">Pregunta 4.</span>\n",
    "<span style=\"font-size: 14pt; font-weight: bold; color: #0098cd;\">Considerando dos grupos de comentarios (odio y no odio) ¿Cuál el número promedio de palabras en los comentarios de cada grupo?</span>"
   ]
  },
  {
   "cell_type": "code",
   "execution_count": 12,
   "metadata": {},
   "outputs": [
    {
     "name": "stdout",
     "output_type": "stream",
     "text": [
      "Media de palabras en comentarios de odio: 15.96\n",
      "Media de palabras en comentarios que no son de odio: 111.70\n"
     ]
    }
   ],
   "source": [
    "# Filtrar los comentarios de odio y no odio\n",
    "comentarios_odio = data[data['TIPO DE ODIO'].notnull()]['CONTENIDO A ANALIZAR']\n",
    "comentarios_no_odio = data[data['TIPO DE ODIO'].isnull()]['CONTENIDO A ANALIZAR']\n",
    "\n",
    "# Calcular la media de palabras\n",
    "media_palabras_odio = comentarios_odio.apply(contar_palabras).mean()\n",
    "media_palabras_no_odio = comentarios_no_odio.apply(contar_palabras).mean()\n",
    "\n",
    "# Imprimir resultados\n",
    "print(f\"Media de palabras en comentarios de odio: {media_palabras_odio:.2f}\")\n",
    "print(f\"Media de palabras en comentarios que no son de odio: {media_palabras_no_odio:.2f}\")"
   ]
  },
  {
   "cell_type": "markdown",
   "metadata": {},
   "source": [
    "<b>Incluye aquí, debajo de la línea, la explicación de tu respuesta</b>\n",
    "<hr>\n",
    " \n",
    "Si filtramos los datos de filas donde no se dice si hay odio y en las que si hay odio y luego hacemos la media, podemos ver que la media de palabras en comentarios de odio es de 15.96. \n",
    "\n",
    "Mientras que la media de palabras en comentarios que no son de odio es de 111.70."
   ]
  },
  {
   "cell_type": "markdown",
   "metadata": {},
   "source": [
    "<span style=\"font-size: 14pt; font-weight: bold; color: #0098cd;\">Pregunta 5.</span>\n",
    "<span style=\"font-size: 14pt; font-weight: bold; color: #0098cd;\">Considerando dos grupos de comentarios (odio y no odio) ¿Cuál es el número promedio de oraciones en los comentarios de cada grupo?</span>"
   ]
  },
  {
   "cell_type": "code",
   "execution_count": 13,
   "metadata": {},
   "outputs": [],
   "source": [
    "def contar_oraciones(texto):\n",
    "    if isinstance(texto, str):\n",
    "        # Dividir por \".\", \"?\" o \"!\" y eliminar vacíos\n",
    "        return len([oracion.strip() for oracion in texto.split('.') if oracion.strip()])\n",
    "    return 0"
   ]
  },
  {
   "cell_type": "code",
   "execution_count": 14,
   "metadata": {},
   "outputs": [
    {
     "name": "stdout",
     "output_type": "stream",
     "text": [
      "Promedio de oraciones en comentarios de odio: 1.58\n",
      "Promedio de oraciones en comentarios que no son de odio: 5.27\n"
     ]
    }
   ],
   "source": [
    "# Filtrar los comentarios de odio y no odio\n",
    "comentarios_odio = data[data['TIPO DE ODIO'].notnull()]['CONTENIDO A ANALIZAR']\n",
    "comentarios_no_odio = data[data['TIPO DE ODIO'].isnull()]['CONTENIDO A ANALIZAR']\n",
    "\n",
    "# Calcular la media de oraciones\n",
    "media_oraciones_odio = comentarios_odio.apply(contar_oraciones).mean()\n",
    "media_oraciones_no_odio = comentarios_no_odio.apply(contar_oraciones).mean()\n",
    "\n",
    "# Imprimir resultados\n",
    "print(f\"Promedio de oraciones en comentarios de odio: {media_oraciones_odio:.2f}\")\n",
    "print(f\"Promedio de oraciones en comentarios que no son de odio: {media_oraciones_no_odio:.2f}\")"
   ]
  },
  {
   "cell_type": "markdown",
   "metadata": {},
   "source": [
    "<b>Incluye aquí, debajo de la línea, la explicación de tu respuesta</b>\n",
    "<hr>\n",
    " \n",
    "Las oraciones se suelen separar por \".\", \"?\" o \"!\", por lo que si separamos las oraciones por ahí y hacemos la media de oraciones por cada grupo, nos da que el promedio de oraciones en comentarios de odio es de 1.58.\n",
    "\n",
    "Mientras que el promedio de oraciones en comentarios que no son de odio es de 5.27."
   ]
  },
  {
   "cell_type": "markdown",
   "metadata": {},
   "source": [
    "<span style=\"font-size: 14pt; font-weight: bold; color: #0098cd;\">Pregunta 6.</span>\n",
    "<span style=\"font-size: 14pt; font-weight: bold; color: #0098cd;\">Considerando dos grupos de comentarios (odio y no odio) ¿Cuál es el porcentaje de comentarios que contienen entidades NER en cada grupo?</span>"
   ]
  },
  {
   "cell_type": "code",
   "execution_count": null,
   "metadata": {},
   "outputs": [
    {
     "ename": "",
     "evalue": "",
     "output_type": "error",
     "traceback": [
      "\u001b[1;31mThe Kernel crashed while executing code in the current cell or a previous cell. \n",
      "\u001b[1;31mPlease review the code in the cell(s) to identify a possible cause of the failure. \n",
      "\u001b[1;31mClick <a href='https://aka.ms/vscodeJupyterKernelCrash'>here</a> for more info. \n",
      "\u001b[1;31mView Jupyter <a href='command:jupyter.viewOutput'>log</a> for further details."
     ]
    }
   ],
   "source": [
    "def contiene_entidades(texto):\n",
    "    if isinstance(texto, str):\n",
    "        doc = nlp(texto)\n",
    "        return len(doc.ents) > 0  # True si hay al menos una entidad\n",
    "    return False"
   ]
  },
  {
   "cell_type": "code",
   "execution_count": null,
   "metadata": {},
   "outputs": [],
   "source": [
    "# Filtrar los comentarios de odio y no odio\n",
    "comentarios_odio = data[data['TIPO DE ODIO'].notnull()]['CONTENIDO A ANALIZAR']\n",
    "comentarios_no_odio = data[data['TIPO DE ODIO'].isnull()]['CONTENIDO A ANALIZAR']\n",
    "\n",
    "# Calcular porcentaje de comentarios con entidades NER\n",
    "porcentaje_ner_odio = comentarios_odio.apply(contiene_entidades).mean() * 100\n",
    "porcentaje_ner_no_odio = comentarios_no_odio.apply(contiene_entidades).mean() * 100\n",
    "\n",
    "# Imprimir resultados\n",
    "print(f\"Porcentaje de comentarios de odio que contienen entidades NER: {porcentaje_ner_odio:.2f}%\")\n",
    "print(f\"Porcentaje de comentarios que no son de odio y contienen entidades NER: {porcentaje_ner_no_odio:.2f}%\")"
   ]
  },
  {
   "cell_type": "markdown",
   "metadata": {},
   "source": [
    "<b>Incluye aquí, debajo de la línea, la explicación de tu respuesta</b>\n",
    "<hr>\n",
    " "
   ]
  },
  {
   "cell_type": "markdown",
   "metadata": {},
   "source": [
    "<span style=\"font-size: 14pt; font-weight: bold; color: #0098cd;\">Pregunta 7.</span>\n",
    "<span style=\"font-size: 14pt; font-weight: bold; color: #0098cd;\">Considerando dos grupos de comentarios (odio y no odio) ¿Cuál es el porcentaje de comentarios que contienen entidades NER de tipo PERSON en cada grupo?</span>"
   ]
  },
  {
   "cell_type": "code",
   "execution_count": null,
   "metadata": {},
   "outputs": [],
   "source": [
    "# Incluye aquí el código generado para poder responder a tu pregunta\n"
   ]
  },
  {
   "cell_type": "markdown",
   "metadata": {},
   "source": [
    "<b>Incluye aquí, debajo de la línea, la explicación de tu respuesta</b>\n",
    "<hr>\n",
    " "
   ]
  },
  {
   "cell_type": "markdown",
   "metadata": {},
   "source": [
    "<span style=\"font-size: 14pt; font-weight: bold; color: #0098cd;\">Pregunta 8.</span>\n",
    "<span style=\"font-size: 14pt; font-weight: bold; color: #0098cd;\">Considerando dos grupos de comentarios (odio y no odio) ¿Cuál es el porcentaje de palabras en cada combinación posible de género y número (p.ej. masculino singular) en cada grupo?</span>"
   ]
  },
  {
   "cell_type": "code",
   "execution_count": null,
   "metadata": {},
   "outputs": [],
   "source": [
    "# Incluye aquí el código generado para poder responder a tu pregunta\n"
   ]
  },
  {
   "cell_type": "markdown",
   "metadata": {},
   "source": [
    "<b>Incluye aquí, debajo de la línea, la explicación de tu respuesta</b>\n",
    "<hr>\n",
    " "
   ]
  },
  {
   "cell_type": "markdown",
   "metadata": {},
   "source": [
    "<span style=\"font-size: 14pt; font-weight: bold; color: #0098cd;\">Pregunta 9.</span>\n",
    "<span style=\"font-size: 14pt; font-weight: bold; color: #0098cd;\">Considerando dos grupos de comentarios (odio y no odio), indica cuántas entidades de cada tipo posible se reconocen en cada uno de los grupos</span>"
   ]
  },
  {
   "cell_type": "code",
   "execution_count": null,
   "metadata": {},
   "outputs": [],
   "source": [
    "# Incluye aquí el código generado para poder responder a tu pregunta\n"
   ]
  },
  {
   "cell_type": "markdown",
   "metadata": {},
   "source": [
    "<b>Incluye aquí, debajo de la línea, la explicación de tu respuesta</b>\n",
    "<hr>\n",
    " "
   ]
  },
  {
   "cell_type": "markdown",
   "metadata": {},
   "source": [
    "<span style=\"font-size: 14pt; font-weight: bold; color: #0098cd;\">Pregunta 10.</span>\n",
    "<span style=\"font-size: 14pt; font-weight: bold; color: #0098cd;\">Considerando dos grupos de comentarios (odio y no odio), extrae y muestra los 100 lemas más repetidos en los comentarios de cada grupo</span>"
   ]
  },
  {
   "cell_type": "code",
   "execution_count": null,
   "metadata": {},
   "outputs": [],
   "source": [
    "# Incluye aquí el código generado para poder responder a tu pregunta\n"
   ]
  },
  {
   "cell_type": "markdown",
   "metadata": {},
   "source": [
    "<b>Incluye aquí, debajo de la línea, la explicación de tu respuesta</b>\n",
    "<hr>\n",
    " "
   ]
  },
  {
   "cell_type": "markdown",
   "metadata": {},
   "source": [
    "<span style=\"font-size: 14pt; font-weight: bold; color: #0098cd;\">Pregunta 11.</span>\n",
    "<span style=\"font-size: 14pt; font-weight: bold; color: #0098cd;\">¿Es posible utilizar alguna de las características extraídas en las preguntas anteriores para determinar si un mensaje contiene odio? Justifica tu respuesta con el análisis estadístico que consideres necesario.</span>"
   ]
  },
  {
   "cell_type": "code",
   "execution_count": null,
   "metadata": {},
   "outputs": [],
   "source": [
    "# Incluye aquí el código generado para poder responder a tu pregunta\n"
   ]
  },
  {
   "cell_type": "markdown",
   "metadata": {},
   "source": [
    "<b>Incluye aquí, debajo de la línea, la explicación de tu respuesta</b>\n",
    "<hr>\n",
    " "
   ]
  }
 ],
 "metadata": {
  "kernelspec": {
   "display_name": "Python 3",
   "language": "python",
   "name": "python3"
  },
  "language_info": {
   "codemirror_mode": {
    "name": "ipython",
    "version": 3
   },
   "file_extension": ".py",
   "mimetype": "text/x-python",
   "name": "python",
   "nbconvert_exporter": "python",
   "pygments_lexer": "ipython3",
   "version": "3.11.9"
  }
 },
 "nbformat": 4,
 "nbformat_minor": 4
}
